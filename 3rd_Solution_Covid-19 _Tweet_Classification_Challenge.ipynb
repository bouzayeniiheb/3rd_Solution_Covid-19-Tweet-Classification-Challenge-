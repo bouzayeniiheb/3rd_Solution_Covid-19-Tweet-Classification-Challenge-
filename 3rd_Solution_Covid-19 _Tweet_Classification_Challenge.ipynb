{
  "nbformat": 4,
  "nbformat_minor": 0,
  "metadata": {
    "colab": {
      "name": "covid",
      "provenance": [],
      "collapsed_sections": [],
      "machine_shape": "hm",
      "authorship_tag": "ABX9TyNuzgGwUYBnUZyC+MvPX8qR",
      "include_colab_link": true
    },
    "kernelspec": {
      "name": "python3",
      "display_name": "Python 3"
    },
    "accelerator": "GPU"
  },
  "cells": [
    {
      "cell_type": "markdown",
      "metadata": {
        "id": "view-in-github",
        "colab_type": "text"
      },
      "source": [
        "<a href=\"https://colab.research.google.com/github/bouzayeniiheb/3rd_Solution_Covid-19-Tweet-Classification-Challenge-/blob/master/3rd_Solution_Covid-19%20_Tweet_Classification_Challenge.ipynb\" target=\"_parent\"><img src=\"https://colab.research.google.com/assets/colab-badge.svg\" alt=\"Open In Colab\"/></a>"
      ]
    },
    {
      "cell_type": "markdown",
      "metadata": {
        "id": "CVtUWWpsQfOo",
        "colab_type": "text"
      },
      "source": [
        "### **COVID-19 Tweet Classification Challenge by #ZindiWeekendz**\n",
        "\n",
        "Here is my solution for this hackhaton,\n",
        "I used two models using fastai with Roberta Large.\n",
        "\n",
        "I wrote all my code in this notebook with clear comments.\n",
        "\n",
        "P.S:\n",
        "\n",
        "*   Please run this code in google colab to get the same results.\n",
        "\n",
        "*   If you have a problem in cuda memory, please run the second model in another notebook using a second gmail account.Don't forget to import the libraries.\n",
        "\n",
        "\n",
        "\n"
      ]
    },
    {
      "cell_type": "markdown",
      "metadata": {
        "id": "dwQ01VaQj6MN",
        "colab_type": "text"
      },
      "source": [
        "Before starting the implementation, you will need to install the fastai and transformers libraries. \n"
      ]
    },
    {
      "cell_type": "code",
      "metadata": {
        "id": "oXUe7mqMcazp",
        "colab_type": "code",
        "outputId": "cf9aa8ce-fbf6-4ff6-860e-a31162aca1cf",
        "colab": {
          "base_uri": "https://localhost:8080/",
          "height": 836
        }
      },
      "source": [
        "!pip install torch_nightly -f https://download.pytorch.org/whl/nightly/cu92/torch_nightly.html\n",
        "!pip install fastai"
      ],
      "execution_count": 1,
      "outputs": [
        {
          "output_type": "stream",
          "text": [
            "Looking in links: https://download.pytorch.org/whl/nightly/cu92/torch_nightly.html\n",
            "Requirement already satisfied: torch_nightly in /usr/local/lib/python3.6/dist-packages (1.2.0.dev20190805+cu92)\n",
            "Requirement already satisfied: fastai in /usr/local/lib/python3.6/dist-packages (1.0.61)\n",
            "Requirement already satisfied: requests in /usr/local/lib/python3.6/dist-packages (from fastai) (2.23.0)\n",
            "Requirement already satisfied: torch>=1.0.0 in /usr/local/lib/python3.6/dist-packages (from fastai) (1.5.0+cu101)\n",
            "Requirement already satisfied: spacy>=2.0.18; python_version < \"3.8\" in /usr/local/lib/python3.6/dist-packages (from fastai) (2.2.4)\n",
            "Requirement already satisfied: Pillow in /usr/local/lib/python3.6/dist-packages (from fastai) (7.0.0)\n",
            "Requirement already satisfied: torchvision in /usr/local/lib/python3.6/dist-packages (from fastai) (0.6.0+cu101)\n",
            "Requirement already satisfied: numpy>=1.15 in /usr/local/lib/python3.6/dist-packages (from fastai) (1.18.4)\n",
            "Requirement already satisfied: matplotlib in /usr/local/lib/python3.6/dist-packages (from fastai) (3.2.1)\n",
            "Requirement already satisfied: nvidia-ml-py3 in /usr/local/lib/python3.6/dist-packages (from fastai) (7.352.0)\n",
            "Requirement already satisfied: pyyaml in /usr/local/lib/python3.6/dist-packages (from fastai) (3.13)\n",
            "Requirement already satisfied: dataclasses; python_version < \"3.7\" in /usr/local/lib/python3.6/dist-packages (from fastai) (0.7)\n",
            "Requirement already satisfied: bottleneck in /usr/local/lib/python3.6/dist-packages (from fastai) (1.3.2)\n",
            "Requirement already satisfied: fastprogress>=0.2.1 in /usr/local/lib/python3.6/dist-packages (from fastai) (0.2.3)\n",
            "Requirement already satisfied: numexpr in /usr/local/lib/python3.6/dist-packages (from fastai) (2.7.1)\n",
            "Requirement already satisfied: beautifulsoup4 in /usr/local/lib/python3.6/dist-packages (from fastai) (4.6.3)\n",
            "Requirement already satisfied: packaging in /usr/local/lib/python3.6/dist-packages (from fastai) (20.3)\n",
            "Requirement already satisfied: pandas in /usr/local/lib/python3.6/dist-packages (from fastai) (1.0.3)\n",
            "Requirement already satisfied: scipy in /usr/local/lib/python3.6/dist-packages (from fastai) (1.4.1)\n",
            "Requirement already satisfied: urllib3!=1.25.0,!=1.25.1,<1.26,>=1.21.1 in /usr/local/lib/python3.6/dist-packages (from requests->fastai) (1.24.3)\n",
            "Requirement already satisfied: certifi>=2017.4.17 in /usr/local/lib/python3.6/dist-packages (from requests->fastai) (2020.4.5.1)\n",
            "Requirement already satisfied: idna<3,>=2.5 in /usr/local/lib/python3.6/dist-packages (from requests->fastai) (2.9)\n",
            "Requirement already satisfied: chardet<4,>=3.0.2 in /usr/local/lib/python3.6/dist-packages (from requests->fastai) (3.0.4)\n",
            "Requirement already satisfied: future in /usr/local/lib/python3.6/dist-packages (from torch>=1.0.0->fastai) (0.16.0)\n",
            "Requirement already satisfied: cymem<2.1.0,>=2.0.2 in /usr/local/lib/python3.6/dist-packages (from spacy>=2.0.18; python_version < \"3.8\"->fastai) (2.0.3)\n",
            "Requirement already satisfied: murmurhash<1.1.0,>=0.28.0 in /usr/local/lib/python3.6/dist-packages (from spacy>=2.0.18; python_version < \"3.8\"->fastai) (1.0.2)\n",
            "Requirement already satisfied: wasabi<1.1.0,>=0.4.0 in /usr/local/lib/python3.6/dist-packages (from spacy>=2.0.18; python_version < \"3.8\"->fastai) (0.6.0)\n",
            "Requirement already satisfied: thinc==7.4.0 in /usr/local/lib/python3.6/dist-packages (from spacy>=2.0.18; python_version < \"3.8\"->fastai) (7.4.0)\n",
            "Requirement already satisfied: tqdm<5.0.0,>=4.38.0 in /usr/local/lib/python3.6/dist-packages (from spacy>=2.0.18; python_version < \"3.8\"->fastai) (4.41.1)\n",
            "Requirement already satisfied: plac<1.2.0,>=0.9.6 in /usr/local/lib/python3.6/dist-packages (from spacy>=2.0.18; python_version < \"3.8\"->fastai) (1.1.3)\n",
            "Requirement already satisfied: preshed<3.1.0,>=3.0.2 in /usr/local/lib/python3.6/dist-packages (from spacy>=2.0.18; python_version < \"3.8\"->fastai) (3.0.2)\n",
            "Requirement already satisfied: srsly<1.1.0,>=1.0.2 in /usr/local/lib/python3.6/dist-packages (from spacy>=2.0.18; python_version < \"3.8\"->fastai) (1.0.2)\n",
            "Requirement already satisfied: catalogue<1.1.0,>=0.0.7 in /usr/local/lib/python3.6/dist-packages (from spacy>=2.0.18; python_version < \"3.8\"->fastai) (1.0.0)\n",
            "Requirement already satisfied: setuptools in /usr/local/lib/python3.6/dist-packages (from spacy>=2.0.18; python_version < \"3.8\"->fastai) (46.1.3)\n",
            "Requirement already satisfied: blis<0.5.0,>=0.4.0 in /usr/local/lib/python3.6/dist-packages (from spacy>=2.0.18; python_version < \"3.8\"->fastai) (0.4.1)\n",
            "Requirement already satisfied: kiwisolver>=1.0.1 in /usr/local/lib/python3.6/dist-packages (from matplotlib->fastai) (1.2.0)\n",
            "Requirement already satisfied: cycler>=0.10 in /usr/local/lib/python3.6/dist-packages (from matplotlib->fastai) (0.10.0)\n",
            "Requirement already satisfied: python-dateutil>=2.1 in /usr/local/lib/python3.6/dist-packages (from matplotlib->fastai) (2.8.1)\n",
            "Requirement already satisfied: pyparsing!=2.0.4,!=2.1.2,!=2.1.6,>=2.0.1 in /usr/local/lib/python3.6/dist-packages (from matplotlib->fastai) (2.4.7)\n",
            "Requirement already satisfied: six in /usr/local/lib/python3.6/dist-packages (from packaging->fastai) (1.12.0)\n",
            "Requirement already satisfied: pytz>=2017.2 in /usr/local/lib/python3.6/dist-packages (from pandas->fastai) (2018.9)\n",
            "Requirement already satisfied: importlib-metadata>=0.20; python_version < \"3.8\" in /usr/local/lib/python3.6/dist-packages (from catalogue<1.1.0,>=0.0.7->spacy>=2.0.18; python_version < \"3.8\"->fastai) (1.6.0)\n",
            "Requirement already satisfied: zipp>=0.5 in /usr/local/lib/python3.6/dist-packages (from importlib-metadata>=0.20; python_version < \"3.8\"->catalogue<1.1.0,>=0.0.7->spacy>=2.0.18; python_version < \"3.8\"->fastai) (3.1.0)\n"
          ],
          "name": "stdout"
        }
      ]
    },
    {
      "cell_type": "code",
      "metadata": {
        "id": "6rWRBpFoxgnh",
        "colab_type": "code",
        "colab": {
          "base_uri": "https://localhost:8080/",
          "height": 437
        },
        "outputId": "bb4ab9a1-64fa-459e-8618-411450be89f3"
      },
      "source": [
        "! pip install pytorch-transformers"
      ],
      "execution_count": 2,
      "outputs": [
        {
          "output_type": "stream",
          "text": [
            "Requirement already satisfied: pytorch-transformers in /usr/local/lib/python3.6/dist-packages (1.2.0)\n",
            "Requirement already satisfied: numpy in /usr/local/lib/python3.6/dist-packages (from pytorch-transformers) (1.18.4)\n",
            "Requirement already satisfied: sacremoses in /usr/local/lib/python3.6/dist-packages (from pytorch-transformers) (0.0.43)\n",
            "Requirement already satisfied: boto3 in /usr/local/lib/python3.6/dist-packages (from pytorch-transformers) (1.13.4)\n",
            "Requirement already satisfied: sentencepiece in /usr/local/lib/python3.6/dist-packages (from pytorch-transformers) (0.1.86)\n",
            "Requirement already satisfied: torch>=1.0.0 in /usr/local/lib/python3.6/dist-packages (from pytorch-transformers) (1.5.0+cu101)\n",
            "Requirement already satisfied: requests in /usr/local/lib/python3.6/dist-packages (from pytorch-transformers) (2.23.0)\n",
            "Requirement already satisfied: regex in /usr/local/lib/python3.6/dist-packages (from pytorch-transformers) (2019.12.20)\n",
            "Requirement already satisfied: tqdm in /usr/local/lib/python3.6/dist-packages (from pytorch-transformers) (4.41.1)\n",
            "Requirement already satisfied: six in /usr/local/lib/python3.6/dist-packages (from sacremoses->pytorch-transformers) (1.12.0)\n",
            "Requirement already satisfied: joblib in /usr/local/lib/python3.6/dist-packages (from sacremoses->pytorch-transformers) (0.14.1)\n",
            "Requirement already satisfied: click in /usr/local/lib/python3.6/dist-packages (from sacremoses->pytorch-transformers) (7.1.2)\n",
            "Requirement already satisfied: botocore<1.17.0,>=1.16.4 in /usr/local/lib/python3.6/dist-packages (from boto3->pytorch-transformers) (1.16.4)\n",
            "Requirement already satisfied: jmespath<1.0.0,>=0.7.1 in /usr/local/lib/python3.6/dist-packages (from boto3->pytorch-transformers) (0.9.5)\n",
            "Requirement already satisfied: s3transfer<0.4.0,>=0.3.0 in /usr/local/lib/python3.6/dist-packages (from boto3->pytorch-transformers) (0.3.3)\n",
            "Requirement already satisfied: future in /usr/local/lib/python3.6/dist-packages (from torch>=1.0.0->pytorch-transformers) (0.16.0)\n",
            "Requirement already satisfied: certifi>=2017.4.17 in /usr/local/lib/python3.6/dist-packages (from requests->pytorch-transformers) (2020.4.5.1)\n",
            "Requirement already satisfied: idna<3,>=2.5 in /usr/local/lib/python3.6/dist-packages (from requests->pytorch-transformers) (2.9)\n",
            "Requirement already satisfied: urllib3!=1.25.0,!=1.25.1,<1.26,>=1.21.1 in /usr/local/lib/python3.6/dist-packages (from requests->pytorch-transformers) (1.24.3)\n",
            "Requirement already satisfied: chardet<4,>=3.0.2 in /usr/local/lib/python3.6/dist-packages (from requests->pytorch-transformers) (3.0.4)\n",
            "Requirement already satisfied: docutils<0.16,>=0.10 in /usr/local/lib/python3.6/dist-packages (from botocore<1.17.0,>=1.16.4->boto3->pytorch-transformers) (0.15.2)\n",
            "Requirement already satisfied: python-dateutil<3.0.0,>=2.1 in /usr/local/lib/python3.6/dist-packages (from botocore<1.17.0,>=1.16.4->boto3->pytorch-transformers) (2.8.1)\n"
          ],
          "name": "stdout"
        }
      ]
    },
    {
      "cell_type": "code",
      "metadata": {
        "id": "Z0wYQAU80m0Z",
        "colab_type": "code",
        "colab": {
          "base_uri": "https://localhost:8080/",
          "height": 927
        },
        "outputId": "a0f20dbc-b6ab-4589-e15f-d39d73c6258d"
      },
      "source": [
        "!pip install --upgrade transformers\n",
        "!pip install simpletransformers"
      ],
      "execution_count": 3,
      "outputs": [
        {
          "output_type": "stream",
          "text": [
            "Requirement already up-to-date: transformers in /usr/local/lib/python3.6/dist-packages (2.9.0)\n",
            "Requirement already satisfied, skipping upgrade: filelock in /usr/local/lib/python3.6/dist-packages (from transformers) (3.0.12)\n",
            "Requirement already satisfied, skipping upgrade: tqdm>=4.27 in /usr/local/lib/python3.6/dist-packages (from transformers) (4.41.1)\n",
            "Requirement already satisfied, skipping upgrade: regex!=2019.12.17 in /usr/local/lib/python3.6/dist-packages (from transformers) (2019.12.20)\n",
            "Requirement already satisfied, skipping upgrade: sentencepiece in /usr/local/lib/python3.6/dist-packages (from transformers) (0.1.86)\n",
            "Requirement already satisfied, skipping upgrade: tokenizers==0.7.0 in /usr/local/lib/python3.6/dist-packages (from transformers) (0.7.0)\n",
            "Requirement already satisfied, skipping upgrade: requests in /usr/local/lib/python3.6/dist-packages (from transformers) (2.23.0)\n",
            "Requirement already satisfied, skipping upgrade: dataclasses; python_version < \"3.7\" in /usr/local/lib/python3.6/dist-packages (from transformers) (0.7)\n",
            "Requirement already satisfied, skipping upgrade: numpy in /usr/local/lib/python3.6/dist-packages (from transformers) (1.18.4)\n",
            "Requirement already satisfied, skipping upgrade: sacremoses in /usr/local/lib/python3.6/dist-packages (from transformers) (0.0.43)\n",
            "Requirement already satisfied, skipping upgrade: urllib3!=1.25.0,!=1.25.1,<1.26,>=1.21.1 in /usr/local/lib/python3.6/dist-packages (from requests->transformers) (1.24.3)\n",
            "Requirement already satisfied, skipping upgrade: chardet<4,>=3.0.2 in /usr/local/lib/python3.6/dist-packages (from requests->transformers) (3.0.4)\n",
            "Requirement already satisfied, skipping upgrade: idna<3,>=2.5 in /usr/local/lib/python3.6/dist-packages (from requests->transformers) (2.9)\n",
            "Requirement already satisfied, skipping upgrade: certifi>=2017.4.17 in /usr/local/lib/python3.6/dist-packages (from requests->transformers) (2020.4.5.1)\n",
            "Requirement already satisfied, skipping upgrade: click in /usr/local/lib/python3.6/dist-packages (from sacremoses->transformers) (7.1.2)\n",
            "Requirement already satisfied, skipping upgrade: joblib in /usr/local/lib/python3.6/dist-packages (from sacremoses->transformers) (0.14.1)\n",
            "Requirement already satisfied, skipping upgrade: six in /usr/local/lib/python3.6/dist-packages (from sacremoses->transformers) (1.12.0)\n",
            "Requirement already satisfied: simpletransformers in /usr/local/lib/python3.6/dist-packages (0.28.0)\n",
            "Requirement already satisfied: regex in /usr/local/lib/python3.6/dist-packages (from simpletransformers) (2019.12.20)\n",
            "Requirement already satisfied: tokenizers in /usr/local/lib/python3.6/dist-packages (from simpletransformers) (0.7.0)\n",
            "Requirement already satisfied: tqdm in /usr/local/lib/python3.6/dist-packages (from simpletransformers) (4.41.1)\n",
            "Requirement already satisfied: seqeval in /usr/local/lib/python3.6/dist-packages (from simpletransformers) (0.0.12)\n",
            "Requirement already satisfied: numpy in /usr/local/lib/python3.6/dist-packages (from simpletransformers) (1.18.4)\n",
            "Requirement already satisfied: tensorboardx in /usr/local/lib/python3.6/dist-packages (from simpletransformers) (2.0)\n",
            "Requirement already satisfied: scipy in /usr/local/lib/python3.6/dist-packages (from simpletransformers) (1.4.1)\n",
            "Requirement already satisfied: pandas in /usr/local/lib/python3.6/dist-packages (from simpletransformers) (1.0.3)\n",
            "Requirement already satisfied: transformers>=2.9.0 in /usr/local/lib/python3.6/dist-packages (from simpletransformers) (2.9.0)\n",
            "Requirement already satisfied: requests in /usr/local/lib/python3.6/dist-packages (from simpletransformers) (2.23.0)\n",
            "Requirement already satisfied: scikit-learn in /usr/local/lib/python3.6/dist-packages (from simpletransformers) (0.22.2.post1)\n",
            "Requirement already satisfied: Keras>=2.2.4 in /usr/local/lib/python3.6/dist-packages (from seqeval->simpletransformers) (2.3.1)\n",
            "Requirement already satisfied: protobuf>=3.8.0 in /usr/local/lib/python3.6/dist-packages (from tensorboardx->simpletransformers) (3.10.0)\n",
            "Requirement already satisfied: six in /usr/local/lib/python3.6/dist-packages (from tensorboardx->simpletransformers) (1.12.0)\n",
            "Requirement already satisfied: pytz>=2017.2 in /usr/local/lib/python3.6/dist-packages (from pandas->simpletransformers) (2018.9)\n",
            "Requirement already satisfied: python-dateutil>=2.6.1 in /usr/local/lib/python3.6/dist-packages (from pandas->simpletransformers) (2.8.1)\n",
            "Requirement already satisfied: filelock in /usr/local/lib/python3.6/dist-packages (from transformers>=2.9.0->simpletransformers) (3.0.12)\n",
            "Requirement already satisfied: dataclasses; python_version < \"3.7\" in /usr/local/lib/python3.6/dist-packages (from transformers>=2.9.0->simpletransformers) (0.7)\n",
            "Requirement already satisfied: sentencepiece in /usr/local/lib/python3.6/dist-packages (from transformers>=2.9.0->simpletransformers) (0.1.86)\n",
            "Requirement already satisfied: sacremoses in /usr/local/lib/python3.6/dist-packages (from transformers>=2.9.0->simpletransformers) (0.0.43)\n",
            "Requirement already satisfied: urllib3!=1.25.0,!=1.25.1,<1.26,>=1.21.1 in /usr/local/lib/python3.6/dist-packages (from requests->simpletransformers) (1.24.3)\n",
            "Requirement already satisfied: chardet<4,>=3.0.2 in /usr/local/lib/python3.6/dist-packages (from requests->simpletransformers) (3.0.4)\n",
            "Requirement already satisfied: idna<3,>=2.5 in /usr/local/lib/python3.6/dist-packages (from requests->simpletransformers) (2.9)\n",
            "Requirement already satisfied: certifi>=2017.4.17 in /usr/local/lib/python3.6/dist-packages (from requests->simpletransformers) (2020.4.5.1)\n",
            "Requirement already satisfied: joblib>=0.11 in /usr/local/lib/python3.6/dist-packages (from scikit-learn->simpletransformers) (0.14.1)\n",
            "Requirement already satisfied: keras-applications>=1.0.6 in /usr/local/lib/python3.6/dist-packages (from Keras>=2.2.4->seqeval->simpletransformers) (1.0.8)\n",
            "Requirement already satisfied: keras-preprocessing>=1.0.5 in /usr/local/lib/python3.6/dist-packages (from Keras>=2.2.4->seqeval->simpletransformers) (1.1.0)\n",
            "Requirement already satisfied: pyyaml in /usr/local/lib/python3.6/dist-packages (from Keras>=2.2.4->seqeval->simpletransformers) (3.13)\n",
            "Requirement already satisfied: h5py in /usr/local/lib/python3.6/dist-packages (from Keras>=2.2.4->seqeval->simpletransformers) (2.10.0)\n",
            "Requirement already satisfied: setuptools in /usr/local/lib/python3.6/dist-packages (from protobuf>=3.8.0->tensorboardx->simpletransformers) (46.1.3)\n",
            "Requirement already satisfied: click in /usr/local/lib/python3.6/dist-packages (from sacremoses->transformers>=2.9.0->simpletransformers) (7.1.2)\n"
          ],
          "name": "stdout"
        }
      ]
    },
    {
      "cell_type": "code",
      "metadata": {
        "id": "Ze0fxELN09BB",
        "colab_type": "code",
        "colab": {
          "base_uri": "https://localhost:8080/",
          "height": 35
        },
        "outputId": "7906702a-d634-42f6-9cb5-f4162d21da58"
      },
      "source": [
        "pip install Pillow"
      ],
      "execution_count": 9,
      "outputs": [
        {
          "output_type": "stream",
          "text": [
            "Requirement already satisfied: Pillow in /usr/local/lib/python3.6/dist-packages (7.0.0)\n"
          ],
          "name": "stdout"
        }
      ]
    },
    {
      "cell_type": "markdown",
      "metadata": {
        "id": "J6--Ht4VkYTw",
        "colab_type": "text"
      },
      "source": [
        "Import the necessary librairies"
      ]
    },
    {
      "cell_type": "code",
      "metadata": {
        "id": "cOknqbXOhIV8",
        "colab_type": "code",
        "colab": {}
      },
      "source": [
        "import numpy as np # linear algebra\n",
        "import pandas as pd # data processing, CSV file I/O (e.g. pd.read_csv)\n",
        "from pathlib import Path \n",
        "\n",
        "import os\n",
        "\n",
        "import torch\n",
        "import torch.optim as optim\n",
        "\n",
        "import random \n",
        "\n",
        "# fastai\n",
        "from fastai import *\n",
        "from fastai.text import *\n",
        "from fastai.callbacks import *\n",
        "\n",
        "# transformers\n",
        "from transformers import PreTrainedModel, PreTrainedTokenizer, PretrainedConfig\n",
        "\n",
        "from transformers import RobertaForSequenceClassification, RobertaTokenizer, RobertaConfig\n"
      ],
      "execution_count": 0,
      "outputs": []
    },
    {
      "cell_type": "code",
      "metadata": {
        "id": "w8rRpRW40twI",
        "colab_type": "code",
        "colab": {
          "base_uri": "https://localhost:8080/",
          "height": 35
        },
        "outputId": "9b11fd77-2620-444b-be5d-36900f5328c1"
      },
      "source": [
        "entrypoints = torch.hub.list('pytorch/vision:v0.4.0', force_reload=True)"
      ],
      "execution_count": 10,
      "outputs": [
        {
          "output_type": "stream",
          "text": [
            "Downloading: \"https://github.com/pytorch/vision/archive/v0.4.0.zip\" to /root/.cache/torch/hub/v0.4.0.zip\n"
          ],
          "name": "stderr"
        }
      ]
    },
    {
      "cell_type": "code",
      "metadata": {
        "id": "xXiCwk8JytCN",
        "colab_type": "code",
        "colab": {}
      },
      "source": [
        "from google.colab import files\n",
        "from tqdm import tqdm\n",
        "import warnings\n",
        "warnings.simplefilter('ignore')\n",
        "import gc\n",
        "from scipy.special import softmax\n",
        "from simpletransformers.classification import ClassificationModel\n",
        "from sklearn.model_selection import train_test_split, StratifiedKFold, KFold\n",
        "import sklearn\n",
        "from sklearn.metrics import log_loss\n",
        "from sklearn.metrics import *\n",
        "from sklearn.model_selection import *\n",
        "import re\n",
        "import random\n",
        "import torch"
      ],
      "execution_count": 0,
      "outputs": []
    },
    {
      "cell_type": "markdown",
      "metadata": {
        "id": "QFhyXR6akjou",
        "colab_type": "text"
      },
      "source": [
        "\n",
        "\n",
        "The current versions of the fastai and transformers libraries are respectively 1.0.61 and 2.9.0.\n"
      ]
    },
    {
      "cell_type": "code",
      "metadata": {
        "id": "7diribSyhLDD",
        "colab_type": "code",
        "outputId": "9a846cc5-5c29-4ff5-e585-600227e4d70b",
        "colab": {
          "base_uri": "https://localhost:8080/",
          "height": 53
        }
      },
      "source": [
        "\n",
        "\n",
        "import fastai\n",
        "import transformers\n",
        "print('fastai version :', fastai.__version__)\n",
        "print('transformers version :', transformers.__version__)\n",
        "\n"
      ],
      "execution_count": 12,
      "outputs": [
        {
          "output_type": "stream",
          "text": [
            "fastai version : 1.0.61\n",
            "transformers version : 2.9.0\n"
          ],
          "name": "stdout"
        }
      ]
    },
    {
      "cell_type": "markdown",
      "metadata": {
        "id": "nsZuDBUWkueR",
        "colab_type": "text"
      },
      "source": [
        "Read the datasets"
      ]
    },
    {
      "cell_type": "code",
      "metadata": {
        "id": "geYDQrjteoZP",
        "colab_type": "code",
        "colab": {}
      },
      "source": [
        "TRAIN_PATH = '/content/updated_train.csv'\n",
        "TEST_PATH = '/content/updated_test.csv'\n",
        "SAMPLE_SUB_PATH = '/content/updated_ss.csv'\n",
        "train = pd.read_csv(TRAIN_PATH)\n",
        "test = pd.read_csv(TEST_PATH)\n",
        "sample_sub = pd.read_csv(SAMPLE_SUB_PATH)\n",
        "ID_COL, TARGET_COL = sample_sub.columns.tolist()"
      ],
      "execution_count": 0,
      "outputs": []
    },
    {
      "cell_type": "code",
      "metadata": {
        "id": "GKnja4t9kyas",
        "colab_type": "code",
        "colab": {
          "base_uri": "https://localhost:8080/",
          "height": 206
        },
        "outputId": "daaa962d-e9e6-4c1f-b860-d377ac0a78a5"
      },
      "source": [
        "train.head()"
      ],
      "execution_count": 303,
      "outputs": [
        {
          "output_type": "execute_result",
          "data": {
            "text/html": [
              "<div>\n",
              "<style scoped>\n",
              "    .dataframe tbody tr th:only-of-type {\n",
              "        vertical-align: middle;\n",
              "    }\n",
              "\n",
              "    .dataframe tbody tr th {\n",
              "        vertical-align: top;\n",
              "    }\n",
              "\n",
              "    .dataframe thead th {\n",
              "        text-align: right;\n",
              "    }\n",
              "</style>\n",
              "<table border=\"1\" class=\"dataframe\">\n",
              "  <thead>\n",
              "    <tr style=\"text-align: right;\">\n",
              "      <th></th>\n",
              "      <th>ID</th>\n",
              "      <th>text</th>\n",
              "      <th>target</th>\n",
              "    </tr>\n",
              "  </thead>\n",
              "  <tbody>\n",
              "    <tr>\n",
              "      <th>0</th>\n",
              "      <td>train_0</td>\n",
              "      <td>The bitcoin halving is cancelled due to</td>\n",
              "      <td>1</td>\n",
              "    </tr>\n",
              "    <tr>\n",
              "      <th>1</th>\n",
              "      <td>train_1</td>\n",
              "      <td>MercyOfAllah In good times wrapped in its gran...</td>\n",
              "      <td>0</td>\n",
              "    </tr>\n",
              "    <tr>\n",
              "      <th>2</th>\n",
              "      <td>train_2</td>\n",
              "      <td>266 Days No Digital India No Murder of e learn...</td>\n",
              "      <td>1</td>\n",
              "    </tr>\n",
              "    <tr>\n",
              "      <th>3</th>\n",
              "      <td>train_3</td>\n",
              "      <td>India is likely to run out of the remaining RN...</td>\n",
              "      <td>1</td>\n",
              "    </tr>\n",
              "    <tr>\n",
              "      <th>4</th>\n",
              "      <td>train_4</td>\n",
              "      <td>In these tough times the best way to grow is t...</td>\n",
              "      <td>0</td>\n",
              "    </tr>\n",
              "  </tbody>\n",
              "</table>\n",
              "</div>"
            ],
            "text/plain": [
              "        ID                                               text  target\n",
              "0  train_0            The bitcoin halving is cancelled due to       1\n",
              "1  train_1  MercyOfAllah In good times wrapped in its gran...       0\n",
              "2  train_2  266 Days No Digital India No Murder of e learn...       1\n",
              "3  train_3  India is likely to run out of the remaining RN...       1\n",
              "4  train_4  In these tough times the best way to grow is t...       0"
            ]
          },
          "metadata": {
            "tags": []
          },
          "execution_count": 303
        }
      ]
    },
    {
      "cell_type": "code",
      "metadata": {
        "id": "DTBzQmgAkydj",
        "colab_type": "code",
        "colab": {
          "base_uri": "https://localhost:8080/",
          "height": 300
        },
        "outputId": "7804685f-782f-4671-98ff-da18ec72ca22"
      },
      "source": [
        "train.describe()"
      ],
      "execution_count": 304,
      "outputs": [
        {
          "output_type": "execute_result",
          "data": {
            "text/html": [
              "<div>\n",
              "<style scoped>\n",
              "    .dataframe tbody tr th:only-of-type {\n",
              "        vertical-align: middle;\n",
              "    }\n",
              "\n",
              "    .dataframe tbody tr th {\n",
              "        vertical-align: top;\n",
              "    }\n",
              "\n",
              "    .dataframe thead th {\n",
              "        text-align: right;\n",
              "    }\n",
              "</style>\n",
              "<table border=\"1\" class=\"dataframe\">\n",
              "  <thead>\n",
              "    <tr style=\"text-align: right;\">\n",
              "      <th></th>\n",
              "      <th>target</th>\n",
              "    </tr>\n",
              "  </thead>\n",
              "  <tbody>\n",
              "    <tr>\n",
              "      <th>count</th>\n",
              "      <td>5287.000000</td>\n",
              "    </tr>\n",
              "    <tr>\n",
              "      <th>mean</th>\n",
              "      <td>0.480613</td>\n",
              "    </tr>\n",
              "    <tr>\n",
              "      <th>std</th>\n",
              "      <td>0.499671</td>\n",
              "    </tr>\n",
              "    <tr>\n",
              "      <th>min</th>\n",
              "      <td>0.000000</td>\n",
              "    </tr>\n",
              "    <tr>\n",
              "      <th>25%</th>\n",
              "      <td>0.000000</td>\n",
              "    </tr>\n",
              "    <tr>\n",
              "      <th>50%</th>\n",
              "      <td>0.000000</td>\n",
              "    </tr>\n",
              "    <tr>\n",
              "      <th>75%</th>\n",
              "      <td>1.000000</td>\n",
              "    </tr>\n",
              "    <tr>\n",
              "      <th>max</th>\n",
              "      <td>1.000000</td>\n",
              "    </tr>\n",
              "  </tbody>\n",
              "</table>\n",
              "</div>"
            ],
            "text/plain": [
              "            target\n",
              "count  5287.000000\n",
              "mean      0.480613\n",
              "std       0.499671\n",
              "min       0.000000\n",
              "25%       0.000000\n",
              "50%       0.000000\n",
              "75%       1.000000\n",
              "max       1.000000"
            ]
          },
          "metadata": {
            "tags": []
          },
          "execution_count": 304
        }
      ]
    },
    {
      "cell_type": "markdown",
      "metadata": {
        "id": "mBNVjNKzleVQ",
        "colab_type": "text"
      },
      "source": [
        "As we see here the train data set is well balanced"
      ]
    },
    {
      "cell_type": "code",
      "metadata": {
        "id": "gYISW8ctk40N",
        "colab_type": "code",
        "colab": {
          "base_uri": "https://localhost:8080/",
          "height": 72
        },
        "outputId": "479ac1c7-d851-46ef-f2c7-0bcc1deaa8e4"
      },
      "source": [
        "train['target'].value_counts()"
      ],
      "execution_count": 305,
      "outputs": [
        {
          "output_type": "execute_result",
          "data": {
            "text/plain": [
              "0    2746\n",
              "1    2541\n",
              "Name: target, dtype: int64"
            ]
          },
          "metadata": {
            "tags": []
          },
          "execution_count": 305
        }
      ]
    },
    {
      "cell_type": "markdown",
      "metadata": {
        "id": "RVAW_ysKlu0r",
        "colab_type": "text"
      },
      "source": [
        "Check missing values in the train and test datafames"
      ]
    },
    {
      "cell_type": "code",
      "metadata": {
        "id": "2cWtqNQOlmGF",
        "colab_type": "code",
        "colab": {
          "base_uri": "https://localhost:8080/",
          "height": 35
        },
        "outputId": "4978ae68-78fe-4ec9-ed99-0d56d932f79a"
      },
      "source": [
        "train['target'].isnull().sum()"
      ],
      "execution_count": 306,
      "outputs": [
        {
          "output_type": "execute_result",
          "data": {
            "text/plain": [
              "0"
            ]
          },
          "metadata": {
            "tags": []
          },
          "execution_count": 306
        }
      ]
    },
    {
      "cell_type": "code",
      "metadata": {
        "id": "vNd_4Uc5mFX4",
        "colab_type": "code",
        "colab": {
          "base_uri": "https://localhost:8080/",
          "height": 35
        },
        "outputId": "b6db0de2-5ff8-433c-8efd-5e9d8dcaa31f"
      },
      "source": [
        "train['text'].isnull().sum()"
      ],
      "execution_count": 307,
      "outputs": [
        {
          "output_type": "execute_result",
          "data": {
            "text/plain": [
              "0"
            ]
          },
          "metadata": {
            "tags": []
          },
          "execution_count": 307
        }
      ]
    },
    {
      "cell_type": "code",
      "metadata": {
        "id": "Kf8_k8c3l71t",
        "colab_type": "code",
        "colab": {
          "base_uri": "https://localhost:8080/",
          "height": 35
        },
        "outputId": "92ade622-c9c0-4255-f18c-36f67b59882d"
      },
      "source": [
        "test['text'].isnull().sum()"
      ],
      "execution_count": 308,
      "outputs": [
        {
          "output_type": "execute_result",
          "data": {
            "text/plain": [
              "0"
            ]
          },
          "metadata": {
            "tags": []
          },
          "execution_count": 308
        }
      ]
    },
    {
      "cell_type": "markdown",
      "metadata": {
        "id": "GotyEnh8mTyE",
        "colab_type": "text"
      },
      "source": [
        "### **Roberta Large Model1:**"
      ]
    },
    {
      "cell_type": "code",
      "metadata": {
        "id": "Azm1rganeVOv",
        "colab_type": "code",
        "colab": {}
      },
      "source": [
        "MODEL_CLASSES = {\n",
        "    'roberta': (RobertaForSequenceClassification, RobertaTokenizer, RobertaConfig),\n",
        "}"
      ],
      "execution_count": 0,
      "outputs": []
    },
    {
      "cell_type": "code",
      "metadata": {
        "id": "-ukFkmd1evki",
        "colab_type": "code",
        "colab": {}
      },
      "source": [
        "seed = 42\n",
        "use_fp16 = False\n",
        "bs = 16\n",
        "\n",
        "model_type = 'roberta'\n",
        "pretrained_model_name = 'roberta-large'"
      ],
      "execution_count": 0,
      "outputs": []
    },
    {
      "cell_type": "code",
      "metadata": {
        "id": "xmXN09opezqN",
        "colab_type": "code",
        "colab": {}
      },
      "source": [
        "model_class, tokenizer_class, config_class = MODEL_CLASSES[model_type]"
      ],
      "execution_count": 0,
      "outputs": []
    },
    {
      "cell_type": "markdown",
      "metadata": {
        "id": "sZVLXc6dmltH",
        "colab_type": "text"
      },
      "source": [
        "\n",
        "\n",
        "Function to set the seed for generating random numbers.\n"
      ]
    },
    {
      "cell_type": "code",
      "metadata": {
        "id": "8VcWuuqHe6Nb",
        "colab_type": "code",
        "colab": {}
      },
      "source": [
        "def seed_all(seed_value):\n",
        "    random.seed(seed_value) # Python\n",
        "    np.random.seed(seed_value) # cpu vars\n",
        "    torch.manual_seed(seed_value) # cpu  vars\n",
        "    \n",
        "    if torch.cuda.is_available(): \n",
        "        torch.cuda.manual_seed(seed_value)\n",
        "        torch.cuda.manual_seed_all(seed_value) # gpu vars\n",
        "        torch.backends.cudnn.deterministic = True  #needed\n",
        "        torch.backends.cudnn.benchmark = False"
      ],
      "execution_count": 0,
      "outputs": []
    },
    {
      "cell_type": "code",
      "metadata": {
        "id": "dmGDi6AffFT7",
        "colab_type": "code",
        "colab": {}
      },
      "source": [
        "seed_all(seed)"
      ],
      "execution_count": 0,
      "outputs": []
    },
    {
      "cell_type": "markdown",
      "metadata": {
        "id": "DPyVIAu0nIMN",
        "colab_type": "text"
      },
      "source": [
        "**Data pre-processing**\n"
      ]
    },
    {
      "cell_type": "markdown",
      "metadata": {
        "id": "ko_HAwh1nazD",
        "colab_type": "text"
      },
      "source": [
        "to match pre-training, we have to format the model input sequence in a specific format. To do so, you have to first **tokenize** and then **numericalize** the texts correctly. The difficulty here is that each pre-trained model, that we will fine-tune, requires exactly the same specific pre-process - **tokenization** & **numericalization **- than the pre-process used during the pre-train part. Fortunately, the **tokenizer class** from transformers provides the correct pre-process tools that correspond to each pre-trained model.\n",
        "\n",
        "In the fastai library, data pre-processing is done automatically during the creation of the DataBunch. As you will see in the DataBunch implementation, the tokenizer and numericalizer are passed in the processor argument under the following format :\n",
        "\n",
        "processor = [TokenizeProcessor(tokenizer=tokenizer,...), NumericalizeProcessor(vocab=vocab,...)]\n",
        "\n",
        "Let's first analyse how we can integrate the transformers tokenizer within the TokenizeProcessor function."
      ]
    },
    {
      "cell_type": "markdown",
      "metadata": {
        "id": "B0skpvscn-MS",
        "colab_type": "text"
      },
      "source": [
        "*Custom Tokenizer:*"
      ]
    },
    {
      "cell_type": "markdown",
      "metadata": {
        "id": "8m4X0uM6oDME",
        "colab_type": "text"
      },
      "source": [
        "This part can be a little bit confusing because a lot of classes are wrapped in each other and with similar names. To resume, if we look attentively at the fastai implementation, we notice that :\n",
        "\n",
        "\n",
        "1.   The TokenizeProcessor object takes as tokenizer argument a Tokenizer object.\n",
        "2.  The Tokenizer object takes as tok_func argument a BaseTokenizer object.\n",
        "3. The BaseTokenizer object implement the function tokenizer(t:str) → List[str] that take a text t and returns the list of its tokens.\n",
        "\n",
        "Therefore, we can simply create a new class TransformersBaseTokenizer that inherits from BaseTokenizer and overwrite a new tokenizer function.\n"
      ]
    },
    {
      "cell_type": "code",
      "metadata": {
        "id": "ZoJ44ioIfHGa",
        "colab_type": "code",
        "colab": {}
      },
      "source": [
        "class TransformersBaseTokenizer(BaseTokenizer):\n",
        "    \"\"\"Wrapper around PreTrainedTokenizer to be compatible with fast.ai\"\"\"\n",
        "    def __init__(self, pretrained_tokenizer: PreTrainedTokenizer, model_type = 'bert', **kwargs):\n",
        "        self._pretrained_tokenizer = pretrained_tokenizer\n",
        "        self.max_seq_len = pretrained_tokenizer.max_len\n",
        "        self.model_type = model_type\n",
        "\n",
        "    def __call__(self, *args, **kwargs): \n",
        "        return self\n",
        "\n",
        "    def tokenizer(self, t:str) -> List[str]:\n",
        "        \"\"\"Limits the maximum sequence length and add the spesial tokens\"\"\"\n",
        "        CLS = self._pretrained_tokenizer.cls_token\n",
        "        SEP = self._pretrained_tokenizer.sep_token\n",
        "        if self.model_type in ['roberta']:\n",
        "            tokens = self._pretrained_tokenizer.tokenize(t, add_prefix_space=True)[:self.max_seq_len - 2]\n",
        "            tokens = [CLS] + tokens + [SEP]\n",
        "        \n",
        "        return tokens"
      ],
      "execution_count": 0,
      "outputs": []
    },
    {
      "cell_type": "code",
      "metadata": {
        "id": "wYwnsf27fMr-",
        "colab_type": "code",
        "colab": {}
      },
      "source": [
        "\n",
        "\n",
        "transformer_tokenizer = tokenizer_class.from_pretrained(pretrained_model_name)\n",
        "transformer_base_tokenizer = TransformersBaseTokenizer(pretrained_tokenizer = transformer_tokenizer, model_type = model_type)\n",
        "fastai_tokenizer = Tokenizer(tok_func = transformer_base_tokenizer, pre_rules=[], post_rules=[])\n",
        "\n"
      ],
      "execution_count": 0,
      "outputs": []
    },
    {
      "cell_type": "markdown",
      "metadata": {
        "id": "R4VxyNjKpKpq",
        "colab_type": "text"
      },
      "source": [
        "\n",
        "*Custom Numericalizer:*\n",
        "\n",
        "In fastai, NumericalizeProcessor object takes as vocab argument a Vocab object. From this analyse, I suggest one way to adapt the fastai numericalizer:\n",
        "\n",
        "\n",
        "1.   Create a new class TransformersVocab that inherits from Vocab and overwrite numericalize and textify functions.\n",
        "\n",
        "this solution runs for each model type. It consists of using the functions convert_tokens_to_ids and convert_ids_to_tokens in respectively numericalize and textify.\n",
        "\n"
      ]
    },
    {
      "cell_type": "code",
      "metadata": {
        "id": "xllPEjQsfTSB",
        "colab_type": "code",
        "colab": {}
      },
      "source": [
        "class TransformersVocab(Vocab):\n",
        "    def __init__(self, tokenizer: PreTrainedTokenizer):\n",
        "        super(TransformersVocab, self).__init__(itos = [])\n",
        "        self.tokenizer = tokenizer\n",
        "    \n",
        "    def numericalize(self, t:Collection[str]) -> List[int]:\n",
        "        \"Convert a list of tokens `t` to their ids.\"\n",
        "        return self.tokenizer.convert_tokens_to_ids(t)\n",
        "\n",
        "    def textify(self, nums:Collection[int], sep=' ') -> List[str]:\n",
        "        \"Convert a list of `nums` to their tokens.\"\n",
        "        nums = np.array(nums).tolist()\n",
        "        return sep.join(self.tokenizer.convert_ids_to_tokens(nums)) if sep is not None else self.tokenizer.convert_ids_to_tokens(nums)\n",
        "    \n",
        "    def __getstate__(self):\n",
        "        return {'itos':self.itos, 'tokenizer':self.tokenizer}\n",
        "\n",
        "    def __setstate__(self, state:dict):\n",
        "        self.itos = state['itos']\n",
        "        self.tokenizer = state['tokenizer']\n",
        "        self.stoi = collections.defaultdict(int,{v:k for k,v in enumerate(self.itos)})"
      ],
      "execution_count": 0,
      "outputs": []
    },
    {
      "cell_type": "markdown",
      "metadata": {
        "id": "PDcEwxiSqfkU",
        "colab_type": "text"
      },
      "source": [
        "\n",
        "\n",
        "NB: The functions __gestate__ and __setstate__ allow the functions export and load_learner to work correctly with TransformersVocab.\n"
      ]
    },
    {
      "cell_type": "markdown",
      "metadata": {
        "id": "btJvTIRcqjfG",
        "colab_type": "text"
      },
      "source": [
        "*Setting up the Databunch:*\n"
      ]
    },
    {
      "cell_type": "markdown",
      "metadata": {
        "id": "YWiRBXF7q1HD",
        "colab_type": "text"
      },
      "source": [
        "\n",
        "\n",
        "There is multiple ways to create a DataBunch, in my implementation, I use the data block API, which gives more flexibility.\n"
      ]
    },
    {
      "cell_type": "code",
      "metadata": {
        "id": "EU47M4XUf5Fm",
        "colab_type": "code",
        "colab": {}
      },
      "source": [
        "transformer_vocab =  TransformersVocab(tokenizer = transformer_tokenizer)\n",
        "numericalize_processor = NumericalizeProcessor(vocab=transformer_vocab)\n",
        "\n",
        "tokenize_processor = TokenizeProcessor(tokenizer=fastai_tokenizer, include_bos=False, include_eos=False)\n",
        "\n",
        "transformer_processor = [tokenize_processor, numericalize_processor]"
      ],
      "execution_count": 0,
      "outputs": []
    },
    {
      "cell_type": "code",
      "metadata": {
        "id": "ot5iKn7R2IEH",
        "colab_type": "code",
        "colab": {}
      },
      "source": [
        "pad_first = bool(model_type in ['xlnet'])\n",
        "pad_idx = transformer_tokenizer.pad_token_id"
      ],
      "execution_count": 0,
      "outputs": []
    },
    {
      "cell_type": "code",
      "metadata": {
        "id": "qgSEfycAgFuK",
        "colab_type": "code",
        "outputId": "5cbc376e-dc1b-4a72-fc72-4d23257415d4",
        "colab": {
          "base_uri": "https://localhost:8080/",
          "height": 17
        }
      },
      "source": [
        "databunch = (TextList.from_df(train, cols='text', processor=transformer_processor)\n",
        "             .split_by_rand_pct(0.1,seed=seed)\n",
        "             .label_from_df(cols= 'target')\n",
        "             .add_test(test)\n",
        "             .databunch(bs=bs, pad_first=pad_first, pad_idx=pad_idx))"
      ],
      "execution_count": 319,
      "outputs": [
        {
          "output_type": "display_data",
          "data": {
            "text/html": [
              ""
            ],
            "text/plain": [
              "<IPython.core.display.HTML object>"
            ]
          },
          "metadata": {
            "tags": []
          }
        },
        {
          "output_type": "display_data",
          "data": {
            "text/html": [
              ""
            ],
            "text/plain": [
              "<IPython.core.display.HTML object>"
            ]
          },
          "metadata": {
            "tags": []
          }
        },
        {
          "output_type": "display_data",
          "data": {
            "text/html": [
              ""
            ],
            "text/plain": [
              "<IPython.core.display.HTML object>"
            ]
          },
          "metadata": {
            "tags": []
          }
        }
      ]
    },
    {
      "cell_type": "markdown",
      "metadata": {
        "id": "Q-qTOCixrBt7",
        "colab_type": "text"
      },
      "source": [
        "*Custom model:*\n",
        "\n",
        "every model's forward method always outputs a tuple with various elements depending on the model and the configuration parameters. In our case, we are interested to access only to the logits.  One way to access them is to create a custom model."
      ]
    },
    {
      "cell_type": "code",
      "metadata": {
        "id": "1S5Aqx82gJzd",
        "colab_type": "code",
        "colab": {}
      },
      "source": [
        "class CustomTransformerModel(nn.Module):\n",
        "    def __init__(self, transformer_model: PreTrainedModel):\n",
        "        super(CustomTransformerModel,self).__init__()\n",
        "        self.transformer = transformer_model\n",
        "        \n",
        "    def forward(self, input_ids, attention_mask=None):\n",
        "        \n",
        "        # attention_mask\n",
        "        # Mask to avoid performing attention on padding token indices.\n",
        "        # Mask values selected in ``[0, 1]``:\n",
        "        # ``1`` for tokens that are NOT MASKED, ``0`` for MASKED tokens.\n",
        "        attention_mask = (input_ids!=pad_idx).type(input_ids.type()) \n",
        "        \n",
        "        logits = self.transformer(input_ids,\n",
        "                                  attention_mask = attention_mask)[0]   \n",
        "        return logits"
      ],
      "execution_count": 0,
      "outputs": []
    },
    {
      "cell_type": "markdown",
      "metadata": {
        "id": "UDMAJ25DrQZD",
        "colab_type": "text"
      },
      "source": [
        "\n",
        "\n",
        "To make our transformers adapted to multiclass classification, before loading the pre-trained model, we need to precise the number of labels"
      ]
    },
    {
      "cell_type": "code",
      "metadata": {
        "id": "j3RYWEmsiFYw",
        "colab_type": "code",
        "outputId": "8f4a79b0-85ef-4014-daab-d648cb45b436",
        "colab": {
          "base_uri": "https://localhost:8080/",
          "height": 417
        }
      },
      "source": [
        "config = config_class.from_pretrained(pretrained_model_name)\n",
        "config.num_labels = 2\n",
        "config.use_bfloat16 = use_fp16\n",
        "print(config)"
      ],
      "execution_count": 321,
      "outputs": [
        {
          "output_type": "stream",
          "text": [
            "RobertaConfig {\n",
            "  \"architectures\": [\n",
            "    \"RobertaForMaskedLM\"\n",
            "  ],\n",
            "  \"attention_probs_dropout_prob\": 0.1,\n",
            "  \"bos_token_id\": 0,\n",
            "  \"eos_token_id\": 2,\n",
            "  \"hidden_act\": \"gelu\",\n",
            "  \"hidden_dropout_prob\": 0.1,\n",
            "  \"hidden_size\": 1024,\n",
            "  \"initializer_range\": 0.02,\n",
            "  \"intermediate_size\": 4096,\n",
            "  \"layer_norm_eps\": 1e-05,\n",
            "  \"max_position_embeddings\": 514,\n",
            "  \"model_type\": \"roberta\",\n",
            "  \"num_attention_heads\": 16,\n",
            "  \"num_hidden_layers\": 24,\n",
            "  \"pad_token_id\": 1,\n",
            "  \"type_vocab_size\": 1,\n",
            "  \"vocab_size\": 50265\n",
            "}\n",
            "\n"
          ],
          "name": "stdout"
        }
      ]
    },
    {
      "cell_type": "code",
      "metadata": {
        "id": "cX8Vwzt1iSmo",
        "colab_type": "code",
        "colab": {}
      },
      "source": [
        "transformer_model = model_class.from_pretrained(pretrained_model_name, config = config)\n",
        "\n",
        "custom_transformer_model = CustomTransformerModel(transformer_model = transformer_model)"
      ],
      "execution_count": 0,
      "outputs": []
    },
    {
      "cell_type": "markdown",
      "metadata": {
        "id": "OC_C5rVcrUak",
        "colab_type": "text"
      },
      "source": [
        "*Learner : Custom Optimizer / Custom Metric:*\n",
        "\n",
        "In pytorch-transformers, HuggingFace had implemented two specific optimizers  -  BertAdam and OpenAIAdam  -  that have been replaced by a single AdamW optimizer. This optimizer matches Pytorch Adam optimizer Api, therefore, it becomes straightforward to integrate it within fastai. It is worth noting that for reproducing BertAdam specific behavior, you have to set correct_bias = False.\n",
        "\n",
        "\n"
      ]
    },
    {
      "cell_type": "code",
      "metadata": {
        "id": "qVw0X_lBiY4K",
        "colab_type": "code",
        "colab": {}
      },
      "source": [
        "from fastai.callbacks import *\n",
        "from transformers import AdamW\n",
        "from functools import partial\n",
        "\n",
        "CustomAdamW = partial(AdamW, correct_bias=False)\n",
        "\n",
        "learner = Learner(databunch, \n",
        "                  custom_transformer_model, \n",
        "                  opt_func = CustomAdamW, \n",
        "                  metrics=[accuracy, error_rate])\n",
        "\n",
        "# Show graph of learner stats and metrics after each epoch.\n",
        "learner.callbacks.append(ShowGraph(learner))\n",
        "\n",
        "# Put learn in FP16 precision mode. --> Seems to not working\n",
        "if use_fp16: learner = learner.to_fp16()"
      ],
      "execution_count": 0,
      "outputs": []
    },
    {
      "cell_type": "markdown",
      "metadata": {
        "id": "s1lK17xcr8c7",
        "colab_type": "text"
      },
      "source": [
        "I can decide to divide the model in 14 blocks :\n",
        "\n",
        "\n",
        "*   1 Embedding\n",
        "*   12 transformer\n",
        "*   1 classifier\n",
        "\n",
        "In this case, we can split our model in this way :"
      ]
    },
    {
      "cell_type": "code",
      "metadata": {
        "id": "qOcIEye_8xqh",
        "colab_type": "code",
        "colab": {}
      },
      "source": [
        "list_layers = [learner.model.transformer.roberta.embeddings,\n",
        "              learner.model.transformer.roberta.encoder.layer[0],\n",
        "              learner.model.transformer.roberta.encoder.layer[1],\n",
        "              learner.model.transformer.roberta.encoder.layer[2],\n",
        "              learner.model.transformer.roberta.encoder.layer[3],\n",
        "              learner.model.transformer.roberta.encoder.layer[4],\n",
        "              learner.model.transformer.roberta.encoder.layer[5],\n",
        "              learner.model.transformer.roberta.encoder.layer[6],\n",
        "              learner.model.transformer.roberta.encoder.layer[7],\n",
        "              learner.model.transformer.roberta.encoder.layer[8],\n",
        "              learner.model.transformer.roberta.encoder.layer[9],\n",
        "              learner.model.transformer.roberta.encoder.layer[10],\n",
        "              learner.model.transformer.roberta.encoder.layer[11],\n",
        "              learner.model.transformer.roberta.pooler]"
      ],
      "execution_count": 0,
      "outputs": []
    },
    {
      "cell_type": "markdown",
      "metadata": {
        "id": "WZVIVpoHsJM7",
        "colab_type": "text"
      },
      "source": [
        "\n",
        "\n",
        "Check groups :\n"
      ]
    },
    {
      "cell_type": "code",
      "metadata": {
        "id": "HmClenCRihVY",
        "colab_type": "code",
        "outputId": "73ab2d77-f620-4835-f39c-a288f4c4e521",
        "colab": {
          "base_uri": "https://localhost:8080/",
          "height": 1000
        }
      },
      "source": [
        "learner.split(list_layers)\n",
        "num_groups = len(learner.layer_groups)\n",
        "print('Learner split in',num_groups,'groups')\n",
        "print(learner.layer_groups)"
      ],
      "execution_count": 325,
      "outputs": [
        {
          "output_type": "stream",
          "text": [
            "Learner split in 14 groups\n",
            "[Sequential(\n",
            "  (0): Embedding(50265, 1024, padding_idx=1)\n",
            "  (1): Embedding(514, 1024, padding_idx=1)\n",
            "  (2): Embedding(1, 1024)\n",
            "  (3): LayerNorm((1024,), eps=1e-05, elementwise_affine=True)\n",
            "  (4): Dropout(p=0.1, inplace=False)\n",
            "), Sequential(\n",
            "  (0): Linear(in_features=1024, out_features=1024, bias=True)\n",
            "  (1): Linear(in_features=1024, out_features=1024, bias=True)\n",
            "  (2): Linear(in_features=1024, out_features=1024, bias=True)\n",
            "  (3): Dropout(p=0.1, inplace=False)\n",
            "  (4): Linear(in_features=1024, out_features=1024, bias=True)\n",
            "  (5): LayerNorm((1024,), eps=1e-05, elementwise_affine=True)\n",
            "  (6): Dropout(p=0.1, inplace=False)\n",
            "  (7): Linear(in_features=1024, out_features=4096, bias=True)\n",
            "  (8): Linear(in_features=4096, out_features=1024, bias=True)\n",
            "  (9): LayerNorm((1024,), eps=1e-05, elementwise_affine=True)\n",
            "  (10): Dropout(p=0.1, inplace=False)\n",
            "), Sequential(\n",
            "  (0): Linear(in_features=1024, out_features=1024, bias=True)\n",
            "  (1): Linear(in_features=1024, out_features=1024, bias=True)\n",
            "  (2): Linear(in_features=1024, out_features=1024, bias=True)\n",
            "  (3): Dropout(p=0.1, inplace=False)\n",
            "  (4): Linear(in_features=1024, out_features=1024, bias=True)\n",
            "  (5): LayerNorm((1024,), eps=1e-05, elementwise_affine=True)\n",
            "  (6): Dropout(p=0.1, inplace=False)\n",
            "  (7): Linear(in_features=1024, out_features=4096, bias=True)\n",
            "  (8): Linear(in_features=4096, out_features=1024, bias=True)\n",
            "  (9): LayerNorm((1024,), eps=1e-05, elementwise_affine=True)\n",
            "  (10): Dropout(p=0.1, inplace=False)\n",
            "), Sequential(\n",
            "  (0): Linear(in_features=1024, out_features=1024, bias=True)\n",
            "  (1): Linear(in_features=1024, out_features=1024, bias=True)\n",
            "  (2): Linear(in_features=1024, out_features=1024, bias=True)\n",
            "  (3): Dropout(p=0.1, inplace=False)\n",
            "  (4): Linear(in_features=1024, out_features=1024, bias=True)\n",
            "  (5): LayerNorm((1024,), eps=1e-05, elementwise_affine=True)\n",
            "  (6): Dropout(p=0.1, inplace=False)\n",
            "  (7): Linear(in_features=1024, out_features=4096, bias=True)\n",
            "  (8): Linear(in_features=4096, out_features=1024, bias=True)\n",
            "  (9): LayerNorm((1024,), eps=1e-05, elementwise_affine=True)\n",
            "  (10): Dropout(p=0.1, inplace=False)\n",
            "), Sequential(\n",
            "  (0): Linear(in_features=1024, out_features=1024, bias=True)\n",
            "  (1): Linear(in_features=1024, out_features=1024, bias=True)\n",
            "  (2): Linear(in_features=1024, out_features=1024, bias=True)\n",
            "  (3): Dropout(p=0.1, inplace=False)\n",
            "  (4): Linear(in_features=1024, out_features=1024, bias=True)\n",
            "  (5): LayerNorm((1024,), eps=1e-05, elementwise_affine=True)\n",
            "  (6): Dropout(p=0.1, inplace=False)\n",
            "  (7): Linear(in_features=1024, out_features=4096, bias=True)\n",
            "  (8): Linear(in_features=4096, out_features=1024, bias=True)\n",
            "  (9): LayerNorm((1024,), eps=1e-05, elementwise_affine=True)\n",
            "  (10): Dropout(p=0.1, inplace=False)\n",
            "), Sequential(\n",
            "  (0): Linear(in_features=1024, out_features=1024, bias=True)\n",
            "  (1): Linear(in_features=1024, out_features=1024, bias=True)\n",
            "  (2): Linear(in_features=1024, out_features=1024, bias=True)\n",
            "  (3): Dropout(p=0.1, inplace=False)\n",
            "  (4): Linear(in_features=1024, out_features=1024, bias=True)\n",
            "  (5): LayerNorm((1024,), eps=1e-05, elementwise_affine=True)\n",
            "  (6): Dropout(p=0.1, inplace=False)\n",
            "  (7): Linear(in_features=1024, out_features=4096, bias=True)\n",
            "  (8): Linear(in_features=4096, out_features=1024, bias=True)\n",
            "  (9): LayerNorm((1024,), eps=1e-05, elementwise_affine=True)\n",
            "  (10): Dropout(p=0.1, inplace=False)\n",
            "), Sequential(\n",
            "  (0): Linear(in_features=1024, out_features=1024, bias=True)\n",
            "  (1): Linear(in_features=1024, out_features=1024, bias=True)\n",
            "  (2): Linear(in_features=1024, out_features=1024, bias=True)\n",
            "  (3): Dropout(p=0.1, inplace=False)\n",
            "  (4): Linear(in_features=1024, out_features=1024, bias=True)\n",
            "  (5): LayerNorm((1024,), eps=1e-05, elementwise_affine=True)\n",
            "  (6): Dropout(p=0.1, inplace=False)\n",
            "  (7): Linear(in_features=1024, out_features=4096, bias=True)\n",
            "  (8): Linear(in_features=4096, out_features=1024, bias=True)\n",
            "  (9): LayerNorm((1024,), eps=1e-05, elementwise_affine=True)\n",
            "  (10): Dropout(p=0.1, inplace=False)\n",
            "), Sequential(\n",
            "  (0): Linear(in_features=1024, out_features=1024, bias=True)\n",
            "  (1): Linear(in_features=1024, out_features=1024, bias=True)\n",
            "  (2): Linear(in_features=1024, out_features=1024, bias=True)\n",
            "  (3): Dropout(p=0.1, inplace=False)\n",
            "  (4): Linear(in_features=1024, out_features=1024, bias=True)\n",
            "  (5): LayerNorm((1024,), eps=1e-05, elementwise_affine=True)\n",
            "  (6): Dropout(p=0.1, inplace=False)\n",
            "  (7): Linear(in_features=1024, out_features=4096, bias=True)\n",
            "  (8): Linear(in_features=4096, out_features=1024, bias=True)\n",
            "  (9): LayerNorm((1024,), eps=1e-05, elementwise_affine=True)\n",
            "  (10): Dropout(p=0.1, inplace=False)\n",
            "), Sequential(\n",
            "  (0): Linear(in_features=1024, out_features=1024, bias=True)\n",
            "  (1): Linear(in_features=1024, out_features=1024, bias=True)\n",
            "  (2): Linear(in_features=1024, out_features=1024, bias=True)\n",
            "  (3): Dropout(p=0.1, inplace=False)\n",
            "  (4): Linear(in_features=1024, out_features=1024, bias=True)\n",
            "  (5): LayerNorm((1024,), eps=1e-05, elementwise_affine=True)\n",
            "  (6): Dropout(p=0.1, inplace=False)\n",
            "  (7): Linear(in_features=1024, out_features=4096, bias=True)\n",
            "  (8): Linear(in_features=4096, out_features=1024, bias=True)\n",
            "  (9): LayerNorm((1024,), eps=1e-05, elementwise_affine=True)\n",
            "  (10): Dropout(p=0.1, inplace=False)\n",
            "), Sequential(\n",
            "  (0): Linear(in_features=1024, out_features=1024, bias=True)\n",
            "  (1): Linear(in_features=1024, out_features=1024, bias=True)\n",
            "  (2): Linear(in_features=1024, out_features=1024, bias=True)\n",
            "  (3): Dropout(p=0.1, inplace=False)\n",
            "  (4): Linear(in_features=1024, out_features=1024, bias=True)\n",
            "  (5): LayerNorm((1024,), eps=1e-05, elementwise_affine=True)\n",
            "  (6): Dropout(p=0.1, inplace=False)\n",
            "  (7): Linear(in_features=1024, out_features=4096, bias=True)\n",
            "  (8): Linear(in_features=4096, out_features=1024, bias=True)\n",
            "  (9): LayerNorm((1024,), eps=1e-05, elementwise_affine=True)\n",
            "  (10): Dropout(p=0.1, inplace=False)\n",
            "), Sequential(\n",
            "  (0): Linear(in_features=1024, out_features=1024, bias=True)\n",
            "  (1): Linear(in_features=1024, out_features=1024, bias=True)\n",
            "  (2): Linear(in_features=1024, out_features=1024, bias=True)\n",
            "  (3): Dropout(p=0.1, inplace=False)\n",
            "  (4): Linear(in_features=1024, out_features=1024, bias=True)\n",
            "  (5): LayerNorm((1024,), eps=1e-05, elementwise_affine=True)\n",
            "  (6): Dropout(p=0.1, inplace=False)\n",
            "  (7): Linear(in_features=1024, out_features=4096, bias=True)\n",
            "  (8): Linear(in_features=4096, out_features=1024, bias=True)\n",
            "  (9): LayerNorm((1024,), eps=1e-05, elementwise_affine=True)\n",
            "  (10): Dropout(p=0.1, inplace=False)\n",
            "), Sequential(\n",
            "  (0): Linear(in_features=1024, out_features=1024, bias=True)\n",
            "  (1): Linear(in_features=1024, out_features=1024, bias=True)\n",
            "  (2): Linear(in_features=1024, out_features=1024, bias=True)\n",
            "  (3): Dropout(p=0.1, inplace=False)\n",
            "  (4): Linear(in_features=1024, out_features=1024, bias=True)\n",
            "  (5): LayerNorm((1024,), eps=1e-05, elementwise_affine=True)\n",
            "  (6): Dropout(p=0.1, inplace=False)\n",
            "  (7): Linear(in_features=1024, out_features=4096, bias=True)\n",
            "  (8): Linear(in_features=4096, out_features=1024, bias=True)\n",
            "  (9): LayerNorm((1024,), eps=1e-05, elementwise_affine=True)\n",
            "  (10): Dropout(p=0.1, inplace=False)\n",
            "), Sequential(\n",
            "  (0): Linear(in_features=1024, out_features=1024, bias=True)\n",
            "  (1): Linear(in_features=1024, out_features=1024, bias=True)\n",
            "  (2): Linear(in_features=1024, out_features=1024, bias=True)\n",
            "  (3): Dropout(p=0.1, inplace=False)\n",
            "  (4): Linear(in_features=1024, out_features=1024, bias=True)\n",
            "  (5): LayerNorm((1024,), eps=1e-05, elementwise_affine=True)\n",
            "  (6): Dropout(p=0.1, inplace=False)\n",
            "  (7): Linear(in_features=1024, out_features=4096, bias=True)\n",
            "  (8): Linear(in_features=4096, out_features=1024, bias=True)\n",
            "  (9): LayerNorm((1024,), eps=1e-05, elementwise_affine=True)\n",
            "  (10): Dropout(p=0.1, inplace=False)\n",
            "  (11): Linear(in_features=1024, out_features=1024, bias=True)\n",
            "  (12): Linear(in_features=1024, out_features=1024, bias=True)\n",
            "  (13): Linear(in_features=1024, out_features=1024, bias=True)\n",
            "  (14): Dropout(p=0.1, inplace=False)\n",
            "  (15): Linear(in_features=1024, out_features=1024, bias=True)\n",
            "  (16): LayerNorm((1024,), eps=1e-05, elementwise_affine=True)\n",
            "  (17): Dropout(p=0.1, inplace=False)\n",
            "  (18): Linear(in_features=1024, out_features=4096, bias=True)\n",
            "  (19): Linear(in_features=4096, out_features=1024, bias=True)\n",
            "  (20): LayerNorm((1024,), eps=1e-05, elementwise_affine=True)\n",
            "  (21): Dropout(p=0.1, inplace=False)\n",
            "  (22): Linear(in_features=1024, out_features=1024, bias=True)\n",
            "  (23): Linear(in_features=1024, out_features=1024, bias=True)\n",
            "  (24): Linear(in_features=1024, out_features=1024, bias=True)\n",
            "  (25): Dropout(p=0.1, inplace=False)\n",
            "  (26): Linear(in_features=1024, out_features=1024, bias=True)\n",
            "  (27): LayerNorm((1024,), eps=1e-05, elementwise_affine=True)\n",
            "  (28): Dropout(p=0.1, inplace=False)\n",
            "  (29): Linear(in_features=1024, out_features=4096, bias=True)\n",
            "  (30): Linear(in_features=4096, out_features=1024, bias=True)\n",
            "  (31): LayerNorm((1024,), eps=1e-05, elementwise_affine=True)\n",
            "  (32): Dropout(p=0.1, inplace=False)\n",
            "  (33): Linear(in_features=1024, out_features=1024, bias=True)\n",
            "  (34): Linear(in_features=1024, out_features=1024, bias=True)\n",
            "  (35): Linear(in_features=1024, out_features=1024, bias=True)\n",
            "  (36): Dropout(p=0.1, inplace=False)\n",
            "  (37): Linear(in_features=1024, out_features=1024, bias=True)\n",
            "  (38): LayerNorm((1024,), eps=1e-05, elementwise_affine=True)\n",
            "  (39): Dropout(p=0.1, inplace=False)\n",
            "  (40): Linear(in_features=1024, out_features=4096, bias=True)\n",
            "  (41): Linear(in_features=4096, out_features=1024, bias=True)\n",
            "  (42): LayerNorm((1024,), eps=1e-05, elementwise_affine=True)\n",
            "  (43): Dropout(p=0.1, inplace=False)\n",
            "  (44): Linear(in_features=1024, out_features=1024, bias=True)\n",
            "  (45): Linear(in_features=1024, out_features=1024, bias=True)\n",
            "  (46): Linear(in_features=1024, out_features=1024, bias=True)\n",
            "  (47): Dropout(p=0.1, inplace=False)\n",
            "  (48): Linear(in_features=1024, out_features=1024, bias=True)\n",
            "  (49): LayerNorm((1024,), eps=1e-05, elementwise_affine=True)\n",
            "  (50): Dropout(p=0.1, inplace=False)\n",
            "  (51): Linear(in_features=1024, out_features=4096, bias=True)\n",
            "  (52): Linear(in_features=4096, out_features=1024, bias=True)\n",
            "  (53): LayerNorm((1024,), eps=1e-05, elementwise_affine=True)\n",
            "  (54): Dropout(p=0.1, inplace=False)\n",
            "  (55): Linear(in_features=1024, out_features=1024, bias=True)\n",
            "  (56): Linear(in_features=1024, out_features=1024, bias=True)\n",
            "  (57): Linear(in_features=1024, out_features=1024, bias=True)\n",
            "  (58): Dropout(p=0.1, inplace=False)\n",
            "  (59): Linear(in_features=1024, out_features=1024, bias=True)\n",
            "  (60): LayerNorm((1024,), eps=1e-05, elementwise_affine=True)\n",
            "  (61): Dropout(p=0.1, inplace=False)\n",
            "  (62): Linear(in_features=1024, out_features=4096, bias=True)\n",
            "  (63): Linear(in_features=4096, out_features=1024, bias=True)\n",
            "  (64): LayerNorm((1024,), eps=1e-05, elementwise_affine=True)\n",
            "  (65): Dropout(p=0.1, inplace=False)\n",
            "  (66): Linear(in_features=1024, out_features=1024, bias=True)\n",
            "  (67): Linear(in_features=1024, out_features=1024, bias=True)\n",
            "  (68): Linear(in_features=1024, out_features=1024, bias=True)\n",
            "  (69): Dropout(p=0.1, inplace=False)\n",
            "  (70): Linear(in_features=1024, out_features=1024, bias=True)\n",
            "  (71): LayerNorm((1024,), eps=1e-05, elementwise_affine=True)\n",
            "  (72): Dropout(p=0.1, inplace=False)\n",
            "  (73): Linear(in_features=1024, out_features=4096, bias=True)\n",
            "  (74): Linear(in_features=4096, out_features=1024, bias=True)\n",
            "  (75): LayerNorm((1024,), eps=1e-05, elementwise_affine=True)\n",
            "  (76): Dropout(p=0.1, inplace=False)\n",
            "  (77): Linear(in_features=1024, out_features=1024, bias=True)\n",
            "  (78): Linear(in_features=1024, out_features=1024, bias=True)\n",
            "  (79): Linear(in_features=1024, out_features=1024, bias=True)\n",
            "  (80): Dropout(p=0.1, inplace=False)\n",
            "  (81): Linear(in_features=1024, out_features=1024, bias=True)\n",
            "  (82): LayerNorm((1024,), eps=1e-05, elementwise_affine=True)\n",
            "  (83): Dropout(p=0.1, inplace=False)\n",
            "  (84): Linear(in_features=1024, out_features=4096, bias=True)\n",
            "  (85): Linear(in_features=4096, out_features=1024, bias=True)\n",
            "  (86): LayerNorm((1024,), eps=1e-05, elementwise_affine=True)\n",
            "  (87): Dropout(p=0.1, inplace=False)\n",
            "  (88): Linear(in_features=1024, out_features=1024, bias=True)\n",
            "  (89): Linear(in_features=1024, out_features=1024, bias=True)\n",
            "  (90): Linear(in_features=1024, out_features=1024, bias=True)\n",
            "  (91): Dropout(p=0.1, inplace=False)\n",
            "  (92): Linear(in_features=1024, out_features=1024, bias=True)\n",
            "  (93): LayerNorm((1024,), eps=1e-05, elementwise_affine=True)\n",
            "  (94): Dropout(p=0.1, inplace=False)\n",
            "  (95): Linear(in_features=1024, out_features=4096, bias=True)\n",
            "  (96): Linear(in_features=4096, out_features=1024, bias=True)\n",
            "  (97): LayerNorm((1024,), eps=1e-05, elementwise_affine=True)\n",
            "  (98): Dropout(p=0.1, inplace=False)\n",
            "  (99): Linear(in_features=1024, out_features=1024, bias=True)\n",
            "  (100): Linear(in_features=1024, out_features=1024, bias=True)\n",
            "  (101): Linear(in_features=1024, out_features=1024, bias=True)\n",
            "  (102): Dropout(p=0.1, inplace=False)\n",
            "  (103): Linear(in_features=1024, out_features=1024, bias=True)\n",
            "  (104): LayerNorm((1024,), eps=1e-05, elementwise_affine=True)\n",
            "  (105): Dropout(p=0.1, inplace=False)\n",
            "  (106): Linear(in_features=1024, out_features=4096, bias=True)\n",
            "  (107): Linear(in_features=4096, out_features=1024, bias=True)\n",
            "  (108): LayerNorm((1024,), eps=1e-05, elementwise_affine=True)\n",
            "  (109): Dropout(p=0.1, inplace=False)\n",
            "  (110): Linear(in_features=1024, out_features=1024, bias=True)\n",
            "  (111): Linear(in_features=1024, out_features=1024, bias=True)\n",
            "  (112): Linear(in_features=1024, out_features=1024, bias=True)\n",
            "  (113): Dropout(p=0.1, inplace=False)\n",
            "  (114): Linear(in_features=1024, out_features=1024, bias=True)\n",
            "  (115): LayerNorm((1024,), eps=1e-05, elementwise_affine=True)\n",
            "  (116): Dropout(p=0.1, inplace=False)\n",
            "  (117): Linear(in_features=1024, out_features=4096, bias=True)\n",
            "  (118): Linear(in_features=4096, out_features=1024, bias=True)\n",
            "  (119): LayerNorm((1024,), eps=1e-05, elementwise_affine=True)\n",
            "  (120): Dropout(p=0.1, inplace=False)\n",
            "  (121): Linear(in_features=1024, out_features=1024, bias=True)\n",
            "  (122): Linear(in_features=1024, out_features=1024, bias=True)\n",
            "  (123): Linear(in_features=1024, out_features=1024, bias=True)\n",
            "  (124): Dropout(p=0.1, inplace=False)\n",
            "  (125): Linear(in_features=1024, out_features=1024, bias=True)\n",
            "  (126): LayerNorm((1024,), eps=1e-05, elementwise_affine=True)\n",
            "  (127): Dropout(p=0.1, inplace=False)\n",
            "  (128): Linear(in_features=1024, out_features=4096, bias=True)\n",
            "  (129): Linear(in_features=4096, out_features=1024, bias=True)\n",
            "  (130): LayerNorm((1024,), eps=1e-05, elementwise_affine=True)\n",
            "  (131): Dropout(p=0.1, inplace=False)\n",
            "  (132): Linear(in_features=1024, out_features=1024, bias=True)\n",
            "  (133): Linear(in_features=1024, out_features=1024, bias=True)\n",
            "  (134): Linear(in_features=1024, out_features=1024, bias=True)\n",
            "  (135): Dropout(p=0.1, inplace=False)\n",
            "  (136): Linear(in_features=1024, out_features=1024, bias=True)\n",
            "  (137): LayerNorm((1024,), eps=1e-05, elementwise_affine=True)\n",
            "  (138): Dropout(p=0.1, inplace=False)\n",
            "  (139): Linear(in_features=1024, out_features=4096, bias=True)\n",
            "  (140): Linear(in_features=4096, out_features=1024, bias=True)\n",
            "  (141): LayerNorm((1024,), eps=1e-05, elementwise_affine=True)\n",
            "  (142): Dropout(p=0.1, inplace=False)\n",
            "), Sequential(\n",
            "  (0): Linear(in_features=1024, out_features=1024, bias=True)\n",
            "  (1): Tanh()\n",
            "  (2): Linear(in_features=1024, out_features=1024, bias=True)\n",
            "  (3): Dropout(p=0.1, inplace=False)\n",
            "  (4): Linear(in_features=1024, out_features=2, bias=True)\n",
            ")]\n"
          ],
          "name": "stdout"
        }
      ]
    },
    {
      "cell_type": "markdown",
      "metadata": {
        "id": "zSeLZyW8sSLs",
        "colab_type": "text"
      },
      "source": [
        "*Train*\n",
        "\n",
        "Now we can finally use all the fastai build-in features to train our model. Like the ULMFiT method, we will use Slanted Triangular Learning Rates, Discriminate Learning Rate and gradually unfreeze the model."
      ]
    },
    {
      "cell_type": "code",
      "metadata": {
        "id": "1VG21nPlijWo",
        "colab_type": "code",
        "colab": {}
      },
      "source": [
        "learner.save('untrain')"
      ],
      "execution_count": 0,
      "outputs": []
    },
    {
      "cell_type": "code",
      "metadata": {
        "id": "kFMJQLXQil2M",
        "colab_type": "code",
        "colab": {}
      },
      "source": [
        "seed_all(seed)\n",
        "learner.load('untrain');"
      ],
      "execution_count": 0,
      "outputs": []
    },
    {
      "cell_type": "markdown",
      "metadata": {
        "id": "Z3a5pkQ1sbvC",
        "colab_type": "text"
      },
      "source": [
        "\n",
        "\n",
        "Therefore, we first freeze all the groups but the classifier with :\n"
      ]
    },
    {
      "cell_type": "code",
      "metadata": {
        "id": "1_U1YesPinjE",
        "colab_type": "code",
        "colab": {}
      },
      "source": [
        "learner.freeze_to(-1)"
      ],
      "execution_count": 0,
      "outputs": []
    },
    {
      "cell_type": "markdown",
      "metadata": {
        "id": "s07bODgXsdiE",
        "colab_type": "text"
      },
      "source": [
        "\n",
        "\n",
        "We check which layer are trainable.\n"
      ]
    },
    {
      "cell_type": "code",
      "metadata": {
        "id": "2mJVpazaio-X",
        "colab_type": "code",
        "outputId": "f9f77917-2b5e-41f8-9e62-38b8334fa76f",
        "colab": {
          "base_uri": "https://localhost:8080/",
          "height": 1000
        }
      },
      "source": [
        "learner.summary()"
      ],
      "execution_count": 329,
      "outputs": [
        {
          "output_type": "execute_result",
          "data": {
            "text/plain": [
              "CustomTransformerModel\n",
              "======================================================================\n",
              "Layer (type)         Output Shape         Param #    Trainable \n",
              "======================================================================\n",
              "Embedding            [85, 1024]           51,471,360 False     \n",
              "______________________________________________________________________\n",
              "Embedding            [85, 1024]           526,336    False     \n",
              "______________________________________________________________________\n",
              "Embedding            [85, 1024]           1,024      False     \n",
              "______________________________________________________________________\n",
              "LayerNorm            [85, 1024]           2,048      False     \n",
              "______________________________________________________________________\n",
              "Dropout              [85, 1024]           0          False     \n",
              "______________________________________________________________________\n",
              "Linear               [85, 1024]           1,049,600  False     \n",
              "______________________________________________________________________\n",
              "Linear               [85, 1024]           1,049,600  False     \n",
              "______________________________________________________________________\n",
              "Linear               [85, 1024]           1,049,600  False     \n",
              "______________________________________________________________________\n",
              "Dropout              [16, 85, 85]         0          False     \n",
              "______________________________________________________________________\n",
              "Linear               [85, 1024]           1,049,600  False     \n",
              "______________________________________________________________________\n",
              "LayerNorm            [85, 1024]           2,048      False     \n",
              "______________________________________________________________________\n",
              "Dropout              [85, 1024]           0          False     \n",
              "______________________________________________________________________\n",
              "Linear               [85, 4096]           4,198,400  False     \n",
              "______________________________________________________________________\n",
              "Linear               [85, 1024]           4,195,328  False     \n",
              "______________________________________________________________________\n",
              "LayerNorm            [85, 1024]           2,048      False     \n",
              "______________________________________________________________________\n",
              "Dropout              [85, 1024]           0          False     \n",
              "______________________________________________________________________\n",
              "Linear               [85, 1024]           1,049,600  False     \n",
              "______________________________________________________________________\n",
              "Linear               [85, 1024]           1,049,600  False     \n",
              "______________________________________________________________________\n",
              "Linear               [85, 1024]           1,049,600  False     \n",
              "______________________________________________________________________\n",
              "Dropout              [16, 85, 85]         0          False     \n",
              "______________________________________________________________________\n",
              "Linear               [85, 1024]           1,049,600  False     \n",
              "______________________________________________________________________\n",
              "LayerNorm            [85, 1024]           2,048      False     \n",
              "______________________________________________________________________\n",
              "Dropout              [85, 1024]           0          False     \n",
              "______________________________________________________________________\n",
              "Linear               [85, 4096]           4,198,400  False     \n",
              "______________________________________________________________________\n",
              "Linear               [85, 1024]           4,195,328  False     \n",
              "______________________________________________________________________\n",
              "LayerNorm            [85, 1024]           2,048      False     \n",
              "______________________________________________________________________\n",
              "Dropout              [85, 1024]           0          False     \n",
              "______________________________________________________________________\n",
              "Linear               [85, 1024]           1,049,600  False     \n",
              "______________________________________________________________________\n",
              "Linear               [85, 1024]           1,049,600  False     \n",
              "______________________________________________________________________\n",
              "Linear               [85, 1024]           1,049,600  False     \n",
              "______________________________________________________________________\n",
              "Dropout              [16, 85, 85]         0          False     \n",
              "______________________________________________________________________\n",
              "Linear               [85, 1024]           1,049,600  False     \n",
              "______________________________________________________________________\n",
              "LayerNorm            [85, 1024]           2,048      False     \n",
              "______________________________________________________________________\n",
              "Dropout              [85, 1024]           0          False     \n",
              "______________________________________________________________________\n",
              "Linear               [85, 4096]           4,198,400  False     \n",
              "______________________________________________________________________\n",
              "Linear               [85, 1024]           4,195,328  False     \n",
              "______________________________________________________________________\n",
              "LayerNorm            [85, 1024]           2,048      False     \n",
              "______________________________________________________________________\n",
              "Dropout              [85, 1024]           0          False     \n",
              "______________________________________________________________________\n",
              "Linear               [85, 1024]           1,049,600  False     \n",
              "______________________________________________________________________\n",
              "Linear               [85, 1024]           1,049,600  False     \n",
              "______________________________________________________________________\n",
              "Linear               [85, 1024]           1,049,600  False     \n",
              "______________________________________________________________________\n",
              "Dropout              [16, 85, 85]         0          False     \n",
              "______________________________________________________________________\n",
              "Linear               [85, 1024]           1,049,600  False     \n",
              "______________________________________________________________________\n",
              "LayerNorm            [85, 1024]           2,048      False     \n",
              "______________________________________________________________________\n",
              "Dropout              [85, 1024]           0          False     \n",
              "______________________________________________________________________\n",
              "Linear               [85, 4096]           4,198,400  False     \n",
              "______________________________________________________________________\n",
              "Linear               [85, 1024]           4,195,328  False     \n",
              "______________________________________________________________________\n",
              "LayerNorm            [85, 1024]           2,048      False     \n",
              "______________________________________________________________________\n",
              "Dropout              [85, 1024]           0          False     \n",
              "______________________________________________________________________\n",
              "Linear               [85, 1024]           1,049,600  False     \n",
              "______________________________________________________________________\n",
              "Linear               [85, 1024]           1,049,600  False     \n",
              "______________________________________________________________________\n",
              "Linear               [85, 1024]           1,049,600  False     \n",
              "______________________________________________________________________\n",
              "Dropout              [16, 85, 85]         0          False     \n",
              "______________________________________________________________________\n",
              "Linear               [85, 1024]           1,049,600  False     \n",
              "______________________________________________________________________\n",
              "LayerNorm            [85, 1024]           2,048      False     \n",
              "______________________________________________________________________\n",
              "Dropout              [85, 1024]           0          False     \n",
              "______________________________________________________________________\n",
              "Linear               [85, 4096]           4,198,400  False     \n",
              "______________________________________________________________________\n",
              "Linear               [85, 1024]           4,195,328  False     \n",
              "______________________________________________________________________\n",
              "LayerNorm            [85, 1024]           2,048      False     \n",
              "______________________________________________________________________\n",
              "Dropout              [85, 1024]           0          False     \n",
              "______________________________________________________________________\n",
              "Linear               [85, 1024]           1,049,600  False     \n",
              "______________________________________________________________________\n",
              "Linear               [85, 1024]           1,049,600  False     \n",
              "______________________________________________________________________\n",
              "Linear               [85, 1024]           1,049,600  False     \n",
              "______________________________________________________________________\n",
              "Dropout              [16, 85, 85]         0          False     \n",
              "______________________________________________________________________\n",
              "Linear               [85, 1024]           1,049,600  False     \n",
              "______________________________________________________________________\n",
              "LayerNorm            [85, 1024]           2,048      False     \n",
              "______________________________________________________________________\n",
              "Dropout              [85, 1024]           0          False     \n",
              "______________________________________________________________________\n",
              "Linear               [85, 4096]           4,198,400  False     \n",
              "______________________________________________________________________\n",
              "Linear               [85, 1024]           4,195,328  False     \n",
              "______________________________________________________________________\n",
              "LayerNorm            [85, 1024]           2,048      False     \n",
              "______________________________________________________________________\n",
              "Dropout              [85, 1024]           0          False     \n",
              "______________________________________________________________________\n",
              "Linear               [85, 1024]           1,049,600  False     \n",
              "______________________________________________________________________\n",
              "Linear               [85, 1024]           1,049,600  False     \n",
              "______________________________________________________________________\n",
              "Linear               [85, 1024]           1,049,600  False     \n",
              "______________________________________________________________________\n",
              "Dropout              [16, 85, 85]         0          False     \n",
              "______________________________________________________________________\n",
              "Linear               [85, 1024]           1,049,600  False     \n",
              "______________________________________________________________________\n",
              "LayerNorm            [85, 1024]           2,048      False     \n",
              "______________________________________________________________________\n",
              "Dropout              [85, 1024]           0          False     \n",
              "______________________________________________________________________\n",
              "Linear               [85, 4096]           4,198,400  False     \n",
              "______________________________________________________________________\n",
              "Linear               [85, 1024]           4,195,328  False     \n",
              "______________________________________________________________________\n",
              "LayerNorm            [85, 1024]           2,048      False     \n",
              "______________________________________________________________________\n",
              "Dropout              [85, 1024]           0          False     \n",
              "______________________________________________________________________\n",
              "Linear               [85, 1024]           1,049,600  False     \n",
              "______________________________________________________________________\n",
              "Linear               [85, 1024]           1,049,600  False     \n",
              "______________________________________________________________________\n",
              "Linear               [85, 1024]           1,049,600  False     \n",
              "______________________________________________________________________\n",
              "Dropout              [16, 85, 85]         0          False     \n",
              "______________________________________________________________________\n",
              "Linear               [85, 1024]           1,049,600  False     \n",
              "______________________________________________________________________\n",
              "LayerNorm            [85, 1024]           2,048      False     \n",
              "______________________________________________________________________\n",
              "Dropout              [85, 1024]           0          False     \n",
              "______________________________________________________________________\n",
              "Linear               [85, 4096]           4,198,400  False     \n",
              "______________________________________________________________________\n",
              "Linear               [85, 1024]           4,195,328  False     \n",
              "______________________________________________________________________\n",
              "LayerNorm            [85, 1024]           2,048      False     \n",
              "______________________________________________________________________\n",
              "Dropout              [85, 1024]           0          False     \n",
              "______________________________________________________________________\n",
              "Linear               [85, 1024]           1,049,600  False     \n",
              "______________________________________________________________________\n",
              "Linear               [85, 1024]           1,049,600  False     \n",
              "______________________________________________________________________\n",
              "Linear               [85, 1024]           1,049,600  False     \n",
              "______________________________________________________________________\n",
              "Dropout              [16, 85, 85]         0          False     \n",
              "______________________________________________________________________\n",
              "Linear               [85, 1024]           1,049,600  False     \n",
              "______________________________________________________________________\n",
              "LayerNorm            [85, 1024]           2,048      False     \n",
              "______________________________________________________________________\n",
              "Dropout              [85, 1024]           0          False     \n",
              "______________________________________________________________________\n",
              "Linear               [85, 4096]           4,198,400  False     \n",
              "______________________________________________________________________\n",
              "Linear               [85, 1024]           4,195,328  False     \n",
              "______________________________________________________________________\n",
              "LayerNorm            [85, 1024]           2,048      False     \n",
              "______________________________________________________________________\n",
              "Dropout              [85, 1024]           0          False     \n",
              "______________________________________________________________________\n",
              "Linear               [85, 1024]           1,049,600  False     \n",
              "______________________________________________________________________\n",
              "Linear               [85, 1024]           1,049,600  False     \n",
              "______________________________________________________________________\n",
              "Linear               [85, 1024]           1,049,600  False     \n",
              "______________________________________________________________________\n",
              "Dropout              [16, 85, 85]         0          False     \n",
              "______________________________________________________________________\n",
              "Linear               [85, 1024]           1,049,600  False     \n",
              "______________________________________________________________________\n",
              "LayerNorm            [85, 1024]           2,048      False     \n",
              "______________________________________________________________________\n",
              "Dropout              [85, 1024]           0          False     \n",
              "______________________________________________________________________\n",
              "Linear               [85, 4096]           4,198,400  False     \n",
              "______________________________________________________________________\n",
              "Linear               [85, 1024]           4,195,328  False     \n",
              "______________________________________________________________________\n",
              "LayerNorm            [85, 1024]           2,048      False     \n",
              "______________________________________________________________________\n",
              "Dropout              [85, 1024]           0          False     \n",
              "______________________________________________________________________\n",
              "Linear               [85, 1024]           1,049,600  False     \n",
              "______________________________________________________________________\n",
              "Linear               [85, 1024]           1,049,600  False     \n",
              "______________________________________________________________________\n",
              "Linear               [85, 1024]           1,049,600  False     \n",
              "______________________________________________________________________\n",
              "Dropout              [16, 85, 85]         0          False     \n",
              "______________________________________________________________________\n",
              "Linear               [85, 1024]           1,049,600  False     \n",
              "______________________________________________________________________\n",
              "LayerNorm            [85, 1024]           2,048      False     \n",
              "______________________________________________________________________\n",
              "Dropout              [85, 1024]           0          False     \n",
              "______________________________________________________________________\n",
              "Linear               [85, 4096]           4,198,400  False     \n",
              "______________________________________________________________________\n",
              "Linear               [85, 1024]           4,195,328  False     \n",
              "______________________________________________________________________\n",
              "LayerNorm            [85, 1024]           2,048      False     \n",
              "______________________________________________________________________\n",
              "Dropout              [85, 1024]           0          False     \n",
              "______________________________________________________________________\n",
              "Linear               [85, 1024]           1,049,600  False     \n",
              "______________________________________________________________________\n",
              "Linear               [85, 1024]           1,049,600  False     \n",
              "______________________________________________________________________\n",
              "Linear               [85, 1024]           1,049,600  False     \n",
              "______________________________________________________________________\n",
              "Dropout              [16, 85, 85]         0          False     \n",
              "______________________________________________________________________\n",
              "Linear               [85, 1024]           1,049,600  False     \n",
              "______________________________________________________________________\n",
              "LayerNorm            [85, 1024]           2,048      False     \n",
              "______________________________________________________________________\n",
              "Dropout              [85, 1024]           0          False     \n",
              "______________________________________________________________________\n",
              "Linear               [85, 4096]           4,198,400  False     \n",
              "______________________________________________________________________\n",
              "Linear               [85, 1024]           4,195,328  False     \n",
              "______________________________________________________________________\n",
              "LayerNorm            [85, 1024]           2,048      False     \n",
              "______________________________________________________________________\n",
              "Dropout              [85, 1024]           0          False     \n",
              "______________________________________________________________________\n",
              "Linear               [85, 1024]           1,049,600  False     \n",
              "______________________________________________________________________\n",
              "Linear               [85, 1024]           1,049,600  False     \n",
              "______________________________________________________________________\n",
              "Linear               [85, 1024]           1,049,600  False     \n",
              "______________________________________________________________________\n",
              "Dropout              [16, 85, 85]         0          False     \n",
              "______________________________________________________________________\n",
              "Linear               [85, 1024]           1,049,600  False     \n",
              "______________________________________________________________________\n",
              "LayerNorm            [85, 1024]           2,048      False     \n",
              "______________________________________________________________________\n",
              "Dropout              [85, 1024]           0          False     \n",
              "______________________________________________________________________\n",
              "Linear               [85, 4096]           4,198,400  False     \n",
              "______________________________________________________________________\n",
              "Linear               [85, 1024]           4,195,328  False     \n",
              "______________________________________________________________________\n",
              "LayerNorm            [85, 1024]           2,048      False     \n",
              "______________________________________________________________________\n",
              "Dropout              [85, 1024]           0          False     \n",
              "______________________________________________________________________\n",
              "Linear               [85, 1024]           1,049,600  False     \n",
              "______________________________________________________________________\n",
              "Linear               [85, 1024]           1,049,600  False     \n",
              "______________________________________________________________________\n",
              "Linear               [85, 1024]           1,049,600  False     \n",
              "______________________________________________________________________\n",
              "Dropout              [16, 85, 85]         0          False     \n",
              "______________________________________________________________________\n",
              "Linear               [85, 1024]           1,049,600  False     \n",
              "______________________________________________________________________\n",
              "LayerNorm            [85, 1024]           2,048      False     \n",
              "______________________________________________________________________\n",
              "Dropout              [85, 1024]           0          False     \n",
              "______________________________________________________________________\n",
              "Linear               [85, 4096]           4,198,400  False     \n",
              "______________________________________________________________________\n",
              "Linear               [85, 1024]           4,195,328  False     \n",
              "______________________________________________________________________\n",
              "LayerNorm            [85, 1024]           2,048      False     \n",
              "______________________________________________________________________\n",
              "Dropout              [85, 1024]           0          False     \n",
              "______________________________________________________________________\n",
              "Linear               [85, 1024]           1,049,600  False     \n",
              "______________________________________________________________________\n",
              "Linear               [85, 1024]           1,049,600  False     \n",
              "______________________________________________________________________\n",
              "Linear               [85, 1024]           1,049,600  False     \n",
              "______________________________________________________________________\n",
              "Dropout              [16, 85, 85]         0          False     \n",
              "______________________________________________________________________\n",
              "Linear               [85, 1024]           1,049,600  False     \n",
              "______________________________________________________________________\n",
              "LayerNorm            [85, 1024]           2,048      False     \n",
              "______________________________________________________________________\n",
              "Dropout              [85, 1024]           0          False     \n",
              "______________________________________________________________________\n",
              "Linear               [85, 4096]           4,198,400  False     \n",
              "______________________________________________________________________\n",
              "Linear               [85, 1024]           4,195,328  False     \n",
              "______________________________________________________________________\n",
              "LayerNorm            [85, 1024]           2,048      False     \n",
              "______________________________________________________________________\n",
              "Dropout              [85, 1024]           0          False     \n",
              "______________________________________________________________________\n",
              "Linear               [85, 1024]           1,049,600  False     \n",
              "______________________________________________________________________\n",
              "Linear               [85, 1024]           1,049,600  False     \n",
              "______________________________________________________________________\n",
              "Linear               [85, 1024]           1,049,600  False     \n",
              "______________________________________________________________________\n",
              "Dropout              [16, 85, 85]         0          False     \n",
              "______________________________________________________________________\n",
              "Linear               [85, 1024]           1,049,600  False     \n",
              "______________________________________________________________________\n",
              "LayerNorm            [85, 1024]           2,048      False     \n",
              "______________________________________________________________________\n",
              "Dropout              [85, 1024]           0          False     \n",
              "______________________________________________________________________\n",
              "Linear               [85, 4096]           4,198,400  False     \n",
              "______________________________________________________________________\n",
              "Linear               [85, 1024]           4,195,328  False     \n",
              "______________________________________________________________________\n",
              "LayerNorm            [85, 1024]           2,048      False     \n",
              "______________________________________________________________________\n",
              "Dropout              [85, 1024]           0          False     \n",
              "______________________________________________________________________\n",
              "Linear               [85, 1024]           1,049,600  False     \n",
              "______________________________________________________________________\n",
              "Linear               [85, 1024]           1,049,600  False     \n",
              "______________________________________________________________________\n",
              "Linear               [85, 1024]           1,049,600  False     \n",
              "______________________________________________________________________\n",
              "Dropout              [16, 85, 85]         0          False     \n",
              "______________________________________________________________________\n",
              "Linear               [85, 1024]           1,049,600  False     \n",
              "______________________________________________________________________\n",
              "LayerNorm            [85, 1024]           2,048      False     \n",
              "______________________________________________________________________\n",
              "Dropout              [85, 1024]           0          False     \n",
              "______________________________________________________________________\n",
              "Linear               [85, 4096]           4,198,400  False     \n",
              "______________________________________________________________________\n",
              "Linear               [85, 1024]           4,195,328  False     \n",
              "______________________________________________________________________\n",
              "LayerNorm            [85, 1024]           2,048      False     \n",
              "______________________________________________________________________\n",
              "Dropout              [85, 1024]           0          False     \n",
              "______________________________________________________________________\n",
              "Linear               [85, 1024]           1,049,600  False     \n",
              "______________________________________________________________________\n",
              "Linear               [85, 1024]           1,049,600  False     \n",
              "______________________________________________________________________\n",
              "Linear               [85, 1024]           1,049,600  False     \n",
              "______________________________________________________________________\n",
              "Dropout              [16, 85, 85]         0          False     \n",
              "______________________________________________________________________\n",
              "Linear               [85, 1024]           1,049,600  False     \n",
              "______________________________________________________________________\n",
              "LayerNorm            [85, 1024]           2,048      False     \n",
              "______________________________________________________________________\n",
              "Dropout              [85, 1024]           0          False     \n",
              "______________________________________________________________________\n",
              "Linear               [85, 4096]           4,198,400  False     \n",
              "______________________________________________________________________\n",
              "Linear               [85, 1024]           4,195,328  False     \n",
              "______________________________________________________________________\n",
              "LayerNorm            [85, 1024]           2,048      False     \n",
              "______________________________________________________________________\n",
              "Dropout              [85, 1024]           0          False     \n",
              "______________________________________________________________________\n",
              "Linear               [85, 1024]           1,049,600  False     \n",
              "______________________________________________________________________\n",
              "Linear               [85, 1024]           1,049,600  False     \n",
              "______________________________________________________________________\n",
              "Linear               [85, 1024]           1,049,600  False     \n",
              "______________________________________________________________________\n",
              "Dropout              [16, 85, 85]         0          False     \n",
              "______________________________________________________________________\n",
              "Linear               [85, 1024]           1,049,600  False     \n",
              "______________________________________________________________________\n",
              "LayerNorm            [85, 1024]           2,048      False     \n",
              "______________________________________________________________________\n",
              "Dropout              [85, 1024]           0          False     \n",
              "______________________________________________________________________\n",
              "Linear               [85, 4096]           4,198,400  False     \n",
              "______________________________________________________________________\n",
              "Linear               [85, 1024]           4,195,328  False     \n",
              "______________________________________________________________________\n",
              "LayerNorm            [85, 1024]           2,048      False     \n",
              "______________________________________________________________________\n",
              "Dropout              [85, 1024]           0          False     \n",
              "______________________________________________________________________\n",
              "Linear               [85, 1024]           1,049,600  False     \n",
              "______________________________________________________________________\n",
              "Linear               [85, 1024]           1,049,600  False     \n",
              "______________________________________________________________________\n",
              "Linear               [85, 1024]           1,049,600  False     \n",
              "______________________________________________________________________\n",
              "Dropout              [16, 85, 85]         0          False     \n",
              "______________________________________________________________________\n",
              "Linear               [85, 1024]           1,049,600  False     \n",
              "______________________________________________________________________\n",
              "LayerNorm            [85, 1024]           2,048      False     \n",
              "______________________________________________________________________\n",
              "Dropout              [85, 1024]           0          False     \n",
              "______________________________________________________________________\n",
              "Linear               [85, 4096]           4,198,400  False     \n",
              "______________________________________________________________________\n",
              "Linear               [85, 1024]           4,195,328  False     \n",
              "______________________________________________________________________\n",
              "LayerNorm            [85, 1024]           2,048      False     \n",
              "______________________________________________________________________\n",
              "Dropout              [85, 1024]           0          False     \n",
              "______________________________________________________________________\n",
              "Linear               [85, 1024]           1,049,600  False     \n",
              "______________________________________________________________________\n",
              "Linear               [85, 1024]           1,049,600  False     \n",
              "______________________________________________________________________\n",
              "Linear               [85, 1024]           1,049,600  False     \n",
              "______________________________________________________________________\n",
              "Dropout              [16, 85, 85]         0          False     \n",
              "______________________________________________________________________\n",
              "Linear               [85, 1024]           1,049,600  False     \n",
              "______________________________________________________________________\n",
              "LayerNorm            [85, 1024]           2,048      False     \n",
              "______________________________________________________________________\n",
              "Dropout              [85, 1024]           0          False     \n",
              "______________________________________________________________________\n",
              "Linear               [85, 4096]           4,198,400  False     \n",
              "______________________________________________________________________\n",
              "Linear               [85, 1024]           4,195,328  False     \n",
              "______________________________________________________________________\n",
              "LayerNorm            [85, 1024]           2,048      False     \n",
              "______________________________________________________________________\n",
              "Dropout              [85, 1024]           0          False     \n",
              "______________________________________________________________________\n",
              "Linear               [85, 1024]           1,049,600  False     \n",
              "______________________________________________________________________\n",
              "Linear               [85, 1024]           1,049,600  False     \n",
              "______________________________________________________________________\n",
              "Linear               [85, 1024]           1,049,600  False     \n",
              "______________________________________________________________________\n",
              "Dropout              [16, 85, 85]         0          False     \n",
              "______________________________________________________________________\n",
              "Linear               [85, 1024]           1,049,600  False     \n",
              "______________________________________________________________________\n",
              "LayerNorm            [85, 1024]           2,048      False     \n",
              "______________________________________________________________________\n",
              "Dropout              [85, 1024]           0          False     \n",
              "______________________________________________________________________\n",
              "Linear               [85, 4096]           4,198,400  False     \n",
              "______________________________________________________________________\n",
              "Linear               [85, 1024]           4,195,328  False     \n",
              "______________________________________________________________________\n",
              "LayerNorm            [85, 1024]           2,048      False     \n",
              "______________________________________________________________________\n",
              "Dropout              [85, 1024]           0          False     \n",
              "______________________________________________________________________\n",
              "Linear               [85, 1024]           1,049,600  False     \n",
              "______________________________________________________________________\n",
              "Linear               [85, 1024]           1,049,600  False     \n",
              "______________________________________________________________________\n",
              "Linear               [85, 1024]           1,049,600  False     \n",
              "______________________________________________________________________\n",
              "Dropout              [16, 85, 85]         0          False     \n",
              "______________________________________________________________________\n",
              "Linear               [85, 1024]           1,049,600  False     \n",
              "______________________________________________________________________\n",
              "LayerNorm            [85, 1024]           2,048      False     \n",
              "______________________________________________________________________\n",
              "Dropout              [85, 1024]           0          False     \n",
              "______________________________________________________________________\n",
              "Linear               [85, 4096]           4,198,400  False     \n",
              "______________________________________________________________________\n",
              "Linear               [85, 1024]           4,195,328  False     \n",
              "______________________________________________________________________\n",
              "LayerNorm            [85, 1024]           2,048      False     \n",
              "______________________________________________________________________\n",
              "Dropout              [85, 1024]           0          False     \n",
              "______________________________________________________________________\n",
              "Linear               [85, 1024]           1,049,600  False     \n",
              "______________________________________________________________________\n",
              "Linear               [85, 1024]           1,049,600  False     \n",
              "______________________________________________________________________\n",
              "Linear               [85, 1024]           1,049,600  False     \n",
              "______________________________________________________________________\n",
              "Dropout              [16, 85, 85]         0          False     \n",
              "______________________________________________________________________\n",
              "Linear               [85, 1024]           1,049,600  False     \n",
              "______________________________________________________________________\n",
              "LayerNorm            [85, 1024]           2,048      False     \n",
              "______________________________________________________________________\n",
              "Dropout              [85, 1024]           0          False     \n",
              "______________________________________________________________________\n",
              "Linear               [85, 4096]           4,198,400  False     \n",
              "______________________________________________________________________\n",
              "Linear               [85, 1024]           4,195,328  False     \n",
              "______________________________________________________________________\n",
              "LayerNorm            [85, 1024]           2,048      False     \n",
              "______________________________________________________________________\n",
              "Dropout              [85, 1024]           0          False     \n",
              "______________________________________________________________________\n",
              "Linear               [1024]               1,049,600  True      \n",
              "______________________________________________________________________\n",
              "Tanh                 [1024]               0          False     \n",
              "______________________________________________________________________\n",
              "Linear               [1024]               1,049,600  True      \n",
              "______________________________________________________________________\n",
              "Dropout              [1024]               0          False     \n",
              "______________________________________________________________________\n",
              "Linear               [2]                  2,050      True      \n",
              "______________________________________________________________________\n",
              "\n",
              "Total params: 356,411,394\n",
              "Total trainable params: 2,101,250\n",
              "Total non-trainable params: 354,310,144\n",
              "Optimized with 'transformers.optimization.AdamW', correct_bias=False\n",
              "Using true weight decay as discussed in https://www.fast.ai/2018/07/02/adam-weight-decay/ \n",
              "Loss function : FlattenedLoss\n",
              "======================================================================\n",
              "Callbacks functions applied \n",
              "    ShowGraph"
            ]
          },
          "metadata": {
            "tags": []
          },
          "execution_count": 329
        }
      ]
    },
    {
      "cell_type": "markdown",
      "metadata": {
        "id": "YiO7U-9bsmiD",
        "colab_type": "text"
      },
      "source": [
        "For Slanted Triangular Learning Rates you have to use the function one_cycle.\n",
        "\n",
        "To use our one_cycle we will need an optimum learning rate. We can find this learning rate by using a learning rate finder which can be called by using lr_find."
      ]
    },
    {
      "cell_type": "code",
      "metadata": {
        "id": "qvKjmHHHiqNl",
        "colab_type": "code",
        "outputId": "58932ad3-6ed3-4095-ad70-bd7eb0e86a77",
        "colab": {
          "base_uri": "https://localhost:8080/",
          "height": 113
        }
      },
      "source": [
        "learner.lr_find()"
      ],
      "execution_count": 330,
      "outputs": [
        {
          "output_type": "display_data",
          "data": {
            "text/html": [
              "\n",
              "    <div>\n",
              "        <style>\n",
              "            /* Turns off some styling */\n",
              "            progress {\n",
              "                /* gets rid of default border in Firefox and Opera. */\n",
              "                border: none;\n",
              "                /* Needs to be in here for Safari polyfill so background images work as expected. */\n",
              "                background-size: auto;\n",
              "            }\n",
              "            .progress-bar-interrupted, .progress-bar-interrupted::-webkit-progress-bar {\n",
              "                background: #F44336;\n",
              "            }\n",
              "        </style>\n",
              "      <progress value='0' class='' max='1' style='width:300px; height:20px; vertical-align: middle;'></progress>\n",
              "      0.00% [0/1 00:00<00:00]\n",
              "    </div>\n",
              "    \n",
              "<table border=\"1\" class=\"dataframe\">\n",
              "  <thead>\n",
              "    <tr style=\"text-align: left;\">\n",
              "      <th>epoch</th>\n",
              "      <th>train_loss</th>\n",
              "      <th>valid_loss</th>\n",
              "      <th>accuracy</th>\n",
              "      <th>error_rate</th>\n",
              "      <th>time</th>\n",
              "    </tr>\n",
              "  </thead>\n",
              "  <tbody>\n",
              "  </tbody>\n",
              "</table><p>\n",
              "\n",
              "    <div>\n",
              "        <style>\n",
              "            /* Turns off some styling */\n",
              "            progress {\n",
              "                /* gets rid of default border in Firefox and Opera. */\n",
              "                border: none;\n",
              "                /* Needs to be in here for Safari polyfill so background images work as expected. */\n",
              "                background-size: auto;\n",
              "            }\n",
              "            .progress-bar-interrupted, .progress-bar-interrupted::-webkit-progress-bar {\n",
              "                background: #F44336;\n",
              "            }\n",
              "        </style>\n",
              "      <progress value='71' class='' max='297' style='width:300px; height:20px; vertical-align: middle;'></progress>\n",
              "      23.91% [71/297 00:21<01:08 2.6173]\n",
              "    </div>\n",
              "    "
            ],
            "text/plain": [
              "<IPython.core.display.HTML object>"
            ]
          },
          "metadata": {
            "tags": []
          }
        },
        {
          "output_type": "stream",
          "text": [
            "LR Finder is complete, type {learner_name}.recorder.plot() to see the graph.\n"
          ],
          "name": "stdout"
        }
      ]
    },
    {
      "cell_type": "code",
      "metadata": {
        "id": "HZbDslVuivVY",
        "colab_type": "code",
        "outputId": "65274c30-2d9d-42a5-b548-f21e249a2320",
        "colab": {
          "base_uri": "https://localhost:8080/",
          "height": 315
        }
      },
      "source": [
        "learner.recorder.plot(skip_end=10,suggestion=True)"
      ],
      "execution_count": 331,
      "outputs": [
        {
          "output_type": "stream",
          "text": [
            "Min numerical gradient: 6.31E-07\n",
            "Min loss divided by 10: 9.12E-08\n"
          ],
          "name": "stdout"
        },
        {
          "output_type": "display_data",
          "data": {
            "image/png": "[encoded data removed]",
            "text/plain": [
              "<Figure size 432x288 with 1 Axes>"
            ]
          },
          "metadata": {
            "tags": [],
            "needs_background": "light"
          }
        }
      ]
    },
    {
      "cell_type": "markdown",
      "metadata": {
        "id": "SKEk8GigsznI",
        "colab_type": "text"
      },
      "source": [
        "\n",
        "I will pick a value a bit before the minimum, where the loss still improves. Here 2x10^-3 seems to be a good value.\n",
        "\n",
        "Next I will use fit_one_cycle with the chosen learning rate as the maximum learning rate.\n"
      ]
    },
    {
      "cell_type": "code",
      "metadata": {
        "id": "B3ATEejkiyDf",
        "colab_type": "code",
        "outputId": "61828900-510f-4f88-d19b-b3ca18ec05d6",
        "colab": {
          "base_uri": "https://localhost:8080/",
          "height": 332
        }
      },
      "source": [
        "learner.fit_one_cycle(1,max_lr=2e-03,moms=(0.8,0.7))"
      ],
      "execution_count": 332,
      "outputs": [
        {
          "output_type": "display_data",
          "data": {
            "text/html": [
              "<table border=\"1\" class=\"dataframe\">\n",
              "  <thead>\n",
              "    <tr style=\"text-align: left;\">\n",
              "      <th>epoch</th>\n",
              "      <th>train_loss</th>\n",
              "      <th>valid_loss</th>\n",
              "      <th>accuracy</th>\n",
              "      <th>error_rate</th>\n",
              "      <th>time</th>\n",
              "    </tr>\n",
              "  </thead>\n",
              "  <tbody>\n",
              "    <tr>\n",
              "      <td>0</td>\n",
              "      <td>0.416115</td>\n",
              "      <td>0.328555</td>\n",
              "      <td>0.856061</td>\n",
              "      <td>0.143939</td>\n",
              "      <td>01:12</td>\n",
              "    </tr>\n",
              "  </tbody>\n",
              "</table>"
            ],
            "text/plain": [
              "<IPython.core.display.HTML object>"
            ]
          },
          "metadata": {
            "tags": []
          }
        },
        {
          "output_type": "display_data",
          "data": {
            "image/png": "[encoded data removed]",
            "text/plain": [
              "<Figure size 432x288 with 1 Axes>"
            ]
          },
          "metadata": {
            "tags": []
          }
        }
      ]
    },
    {
      "cell_type": "code",
      "metadata": {
        "id": "Gx0UQjlEi0zU",
        "colab_type": "code",
        "colab": {}
      },
      "source": [
        "learner.save('first_cycle')"
      ],
      "execution_count": 0,
      "outputs": []
    },
    {
      "cell_type": "code",
      "metadata": {
        "id": "g_FhDMIwi49I",
        "colab_type": "code",
        "colab": {}
      },
      "source": [
        "\n",
        "\n",
        "seed_all(seed)\n",
        "learner.load('first_cycle');\n",
        "\n"
      ],
      "execution_count": 0,
      "outputs": []
    },
    {
      "cell_type": "markdown",
      "metadata": {
        "id": "A9i765bMs6Rl",
        "colab_type": "text"
      },
      "source": [
        "\n",
        "\n",
        "I then unfreeze the second group of layers and repeat the operations.\n"
      ]
    },
    {
      "cell_type": "code",
      "metadata": {
        "id": "Qk-N7kKhi6rk",
        "colab_type": "code",
        "colab": {}
      },
      "source": [
        "learner.freeze_to(-2)"
      ],
      "execution_count": 0,
      "outputs": []
    },
    {
      "cell_type": "code",
      "metadata": {
        "id": "D6peyIp-i8O3",
        "colab_type": "code",
        "colab": {}
      },
      "source": [
        "lr = 1e-5"
      ],
      "execution_count": 0,
      "outputs": []
    },
    {
      "cell_type": "markdown",
      "metadata": {
        "id": "6iFvdbVEs9lq",
        "colab_type": "text"
      },
      "source": [
        "\n",
        "\n",
        "Note here that i use slice to create separate learning rate for each group.\n"
      ]
    },
    {
      "cell_type": "code",
      "metadata": {
        "id": "en-_HUCoi91P",
        "colab_type": "code",
        "outputId": "fef50552-3b78-4e38-bec7-d0cf24e87d65",
        "colab": {
          "base_uri": "https://localhost:8080/",
          "height": 329
        }
      },
      "source": [
        "learner.fit_one_cycle(1, max_lr=slice(lr*0.95**num_groups, lr),moms=(0.8,0.9))"
      ],
      "execution_count": 337,
      "outputs": [
        {
          "output_type": "display_data",
          "data": {
            "text/html": [
              "<table border=\"1\" class=\"dataframe\">\n",
              "  <thead>\n",
              "    <tr style=\"text-align: left;\">\n",
              "      <th>epoch</th>\n",
              "      <th>train_loss</th>\n",
              "      <th>valid_loss</th>\n",
              "      <th>accuracy</th>\n",
              "      <th>error_rate</th>\n",
              "      <th>time</th>\n",
              "    </tr>\n",
              "  </thead>\n",
              "  <tbody>\n",
              "    <tr>\n",
              "      <td>0</td>\n",
              "      <td>0.232635</td>\n",
              "      <td>0.214913</td>\n",
              "      <td>0.905303</td>\n",
              "      <td>0.094697</td>\n",
              "      <td>02:40</td>\n",
              "    </tr>\n",
              "  </tbody>\n",
              "</table>"
            ],
            "text/plain": [
              "<IPython.core.display.HTML object>"
            ]
          },
          "metadata": {
            "tags": []
          }
        },
        {
          "output_type": "display_data",
          "data": {
            "image/png": "[encoded data removed]",
            "text/plain": [
              "<Figure size 432x288 with 1 Axes>"
            ]
          },
          "metadata": {
            "tags": []
          }
        }
      ]
    },
    {
      "cell_type": "code",
      "metadata": {
        "id": "XxGAYja9i_e9",
        "colab_type": "code",
        "colab": {}
      },
      "source": [
        "learner.save('second_cycle')"
      ],
      "execution_count": 0,
      "outputs": []
    },
    {
      "cell_type": "code",
      "metadata": {
        "id": "HLzbqXbBjB2R",
        "colab_type": "code",
        "colab": {}
      },
      "source": [
        "seed_all(seed)\n",
        "learner.load('second_cycle');"
      ],
      "execution_count": 0,
      "outputs": []
    },
    {
      "cell_type": "code",
      "metadata": {
        "id": "-5Un9JlHjFHD",
        "colab_type": "code",
        "colab": {}
      },
      "source": [
        "learner.freeze_to(-3)"
      ],
      "execution_count": 0,
      "outputs": []
    },
    {
      "cell_type": "code",
      "metadata": {
        "id": "vfyKhP-ljGdE",
        "colab_type": "code",
        "outputId": "22379355-9ddc-4738-f40c-6ab446612865",
        "colab": {
          "base_uri": "https://localhost:8080/",
          "height": 329
        }
      },
      "source": [
        "learner.fit_one_cycle(1, max_lr=slice(lr*0.95**num_groups, lr),moms=(0.8,0.9))"
      ],
      "execution_count": 341,
      "outputs": [
        {
          "output_type": "display_data",
          "data": {
            "text/html": [
              "<table border=\"1\" class=\"dataframe\">\n",
              "  <thead>\n",
              "    <tr style=\"text-align: left;\">\n",
              "      <th>epoch</th>\n",
              "      <th>train_loss</th>\n",
              "      <th>valid_loss</th>\n",
              "      <th>accuracy</th>\n",
              "      <th>error_rate</th>\n",
              "      <th>time</th>\n",
              "    </tr>\n",
              "  </thead>\n",
              "  <tbody>\n",
              "    <tr>\n",
              "      <td>0</td>\n",
              "      <td>0.182978</td>\n",
              "      <td>0.212460</td>\n",
              "      <td>0.910985</td>\n",
              "      <td>0.089015</td>\n",
              "      <td>02:49</td>\n",
              "    </tr>\n",
              "  </tbody>\n",
              "</table>"
            ],
            "text/plain": [
              "<IPython.core.display.HTML object>"
            ]
          },
          "metadata": {
            "tags": []
          }
        },
        {
          "output_type": "display_data",
          "data": {
            "image/png": "[encoded data removed]",
            "text/plain": [
              "<Figure size 432x288 with 1 Axes>"
            ]
          },
          "metadata": {
            "tags": []
          }
        }
      ]
    },
    {
      "cell_type": "code",
      "metadata": {
        "id": "bCO8JUEnjI8-",
        "colab_type": "code",
        "colab": {}
      },
      "source": [
        "learner.save('third_cycle')"
      ],
      "execution_count": 0,
      "outputs": []
    },
    {
      "cell_type": "code",
      "metadata": {
        "id": "SOFbejCQjPP7",
        "colab_type": "code",
        "colab": {}
      },
      "source": [
        "seed_all(seed)\n",
        "learner.load('third_cycle');"
      ],
      "execution_count": 0,
      "outputs": []
    },
    {
      "cell_type": "markdown",
      "metadata": {
        "id": "ZxCbnyhVtB66",
        "colab_type": "text"
      },
      "source": [
        "\n",
        "\n",
        "Here, I unfreeze all the groups.\n"
      ]
    },
    {
      "cell_type": "code",
      "metadata": {
        "id": "dKRl7AyyjQtF",
        "colab_type": "code",
        "colab": {}
      },
      "source": [
        "learner.unfreeze()"
      ],
      "execution_count": 0,
      "outputs": []
    },
    {
      "cell_type": "code",
      "metadata": {
        "id": "KJw_63IcjSPy",
        "colab_type": "code",
        "outputId": "46d03ae0-7109-4c0a-99ec-c5492ad140df",
        "colab": {
          "base_uri": "https://localhost:8080/",
          "height": 360
        }
      },
      "source": [
        "learner.fit_one_cycle(2, max_lr=slice(lr*0.95**num_groups, lr),moms=(0.8,0.9))"
      ],
      "execution_count": 345,
      "outputs": [
        {
          "output_type": "display_data",
          "data": {
            "text/html": [
              "<table border=\"1\" class=\"dataframe\">\n",
              "  <thead>\n",
              "    <tr style=\"text-align: left;\">\n",
              "      <th>epoch</th>\n",
              "      <th>train_loss</th>\n",
              "      <th>valid_loss</th>\n",
              "      <th>accuracy</th>\n",
              "      <th>error_rate</th>\n",
              "      <th>time</th>\n",
              "    </tr>\n",
              "  </thead>\n",
              "  <tbody>\n",
              "    <tr>\n",
              "      <td>0</td>\n",
              "      <td>0.255679</td>\n",
              "      <td>0.236354</td>\n",
              "      <td>0.888258</td>\n",
              "      <td>0.111742</td>\n",
              "      <td>04:06</td>\n",
              "    </tr>\n",
              "    <tr>\n",
              "      <td>1</td>\n",
              "      <td>0.159158</td>\n",
              "      <td>0.215915</td>\n",
              "      <td>0.903409</td>\n",
              "      <td>0.096591</td>\n",
              "      <td>03:59</td>\n",
              "    </tr>\n",
              "  </tbody>\n",
              "</table>"
            ],
            "text/plain": [
              "<IPython.core.display.HTML object>"
            ]
          },
          "metadata": {
            "tags": []
          }
        },
        {
          "output_type": "display_data",
          "data": {
            "image/png": "[encoded data removed]",
            "text/plain": [
              "<Figure size 432x288 with 1 Axes>"
            ]
          },
          "metadata": {
            "tags": []
          }
        }
      ]
    },
    {
      "cell_type": "markdown",
      "metadata": {
        "id": "8zQYsEKUujl8",
        "colab_type": "text"
      },
      "source": [
        "***Prediction:***"
      ]
    },
    {
      "cell_type": "markdown",
      "metadata": {
        "id": "ui2-cmP2TZo2",
        "colab_type": "text"
      },
      "source": [
        "Try an example of the test set:"
      ]
    },
    {
      "cell_type": "code",
      "metadata": {
        "id": "Bu41HvnRjTaC",
        "colab_type": "code",
        "outputId": "05d62dc1-02af-4318-a81b-a912253e6634",
        "colab": {
          "base_uri": "https://localhost:8080/",
          "height": 35
        }
      },
      "source": [
        "learner.predict('How Boris Johnson s cheery wounded in action persona may save him yet again Let s hope not Johnso')"
      ],
      "execution_count": 346,
      "outputs": [
        {
          "output_type": "execute_result",
          "data": {
            "text/plain": [
              "(Category tensor(1), tensor(1), tensor([0.0017, 0.9983]))"
            ]
          },
          "metadata": {
            "tags": []
          },
          "execution_count": 346
        }
      ]
    },
    {
      "cell_type": "markdown",
      "metadata": {
        "id": "9M1sBQe2ThCd",
        "colab_type": "text"
      },
      "source": [
        "Make all the predictions:"
      ]
    },
    {
      "cell_type": "code",
      "metadata": {
        "id": "ltqKBFR3kMkT",
        "colab_type": "code",
        "colab": {}
      },
      "source": [
        "prediction=[]\n",
        "for i in test.text:\n",
        "  p=learner.predict(i)\n",
        "  sample_prediction=p[2][1].tolist()\n",
        "  prediction.append(sample_prediction)"
      ],
      "execution_count": 0,
      "outputs": []
    },
    {
      "cell_type": "code",
      "metadata": {
        "id": "D0y2pnB-lx70",
        "colab_type": "code",
        "outputId": "5671f585-abda-4f03-bdc3-2f660a34e5d9",
        "colab": {
          "base_uri": "https://localhost:8080/",
          "height": 35
        }
      },
      "source": [
        "len(prediction)"
      ],
      "execution_count": 348,
      "outputs": [
        {
          "output_type": "execute_result",
          "data": {
            "text/plain": [
              "1962"
            ]
          },
          "metadata": {
            "tags": []
          },
          "execution_count": 348
        }
      ]
    },
    {
      "cell_type": "code",
      "metadata": {
        "id": "kaKlHdbG6rZq",
        "colab_type": "code",
        "colab": {
          "base_uri": "https://localhost:8080/",
          "height": 108
        },
        "outputId": "0597f211-79da-4c8d-f104-3361ba3c5c71"
      },
      "source": [
        "prediction[0:5]"
      ],
      "execution_count": 379,
      "outputs": [
        {
          "output_type": "execute_result",
          "data": {
            "text/plain": [
              "[0.9931851029396057,\n",
              " 2.886372385546565e-05,\n",
              " 2.3880702428868972e-05,\n",
              " 0.9983425140380859,\n",
              " 1.2061724191880785e-05]"
            ]
          },
          "metadata": {
            "tags": []
          },
          "execution_count": 379
        }
      ]
    },
    {
      "cell_type": "markdown",
      "metadata": {
        "id": "Wawq0x3zvc7V",
        "colab_type": "text"
      },
      "source": [
        "## **Roberta Large Model2:**"
      ]
    },
    {
      "cell_type": "markdown",
      "metadata": {
        "id": "kq9GB4mL524-",
        "colab_type": "text"
      },
      "source": [
        "In this part, I use another notebook because i tried the batchsize 32 so if you face an error  (Cuda out of memory) please run this code separently and don't forget to import the Libraires in the beginning of the notebook.\n"
      ]
    },
    {
      "cell_type": "code",
      "metadata": {
        "id": "jwd3Xhfogma_",
        "colab_type": "code",
        "colab": {}
      },
      "source": [
        "TRAIN_PATH = '/content/updated_train.csv'\n",
        "TEST_PATH = '/content/updated_test.csv'\n",
        "SAMPLE_SUB_PATH = '/content/updated_ss.csv'\n",
        "train = pd.read_csv(TRAIN_PATH)\n",
        "test = pd.read_csv(TEST_PATH)\n",
        "sample_sub = pd.read_csv(SAMPLE_SUB_PATH)\n",
        "ID_COL, TARGET_COL = sample_sub.columns.tolist()"
      ],
      "execution_count": 0,
      "outputs": []
    },
    {
      "cell_type": "code",
      "metadata": {
        "id": "jsN_rWL_wNyS",
        "colab_type": "code",
        "colab": {}
      },
      "source": [
        "train1=train.drop(['ID'],axis=1)\n",
        "testt=test.drop(['ID'],axis=1)\n",
        "testt['label']=0\n"
      ],
      "execution_count": 0,
      "outputs": []
    },
    {
      "cell_type": "markdown",
      "metadata": {
        "id": "6vyEaOA55Hds",
        "colab_type": "text"
      },
      "source": [
        "Define the parameters of the model:"
      ]
    },
    {
      "cell_type": "code",
      "metadata": {
        "id": "ALKgmDm7wOQj",
        "colab_type": "code",
        "colab": {}
      },
      "source": [
        "argss = {'train_batch_size':32,\n",
        "                                                                         'reprocess_input_data': True,\n",
        "                                                                         'overwrite_output_dir': True,\n",
        "                                                                         'fp16': False,\n",
        "                                                                         'do_lower_case': False,\n",
        "                                                                         'num_train_epochs': 2,\n",
        "                                                                         'max_seq_length': 64,\n",
        "                                                                         'regression': False,\n",
        "                                                                         'manual_seed': 2,\n",
        "                                                                         \"learning_rate\":3e-5,\n",
        "                                                                         'weight_decay':0,\n",
        "                                                                         \"save_eval_checkpoints\": False,\n",
        "                                                                         \"save_model_every_epoch\": False,\n",
        "                                                                         \"silent\": True}"
      ],
      "execution_count": 0,
      "outputs": []
    },
    {
      "cell_type": "markdown",
      "metadata": {
        "id": "eNIZ56ix5zjR",
        "colab_type": "text"
      },
      "source": [
        "train the model:\n"
      ]
    },
    {
      "cell_type": "code",
      "metadata": {
        "id": "qhdRowNnwOT5",
        "colab_type": "code",
        "colab": {
          "base_uri": "https://localhost:8080/",
          "height": 596
        },
        "outputId": "a7b16820-9542-452e-ba57-77c6f59a72aa"
      },
      "source": [
        "erreur=[]\n",
        "pred2=[]\n",
        "fold=StratifiedKFold(n_splits=20, shuffle=True, random_state=2)\n",
        "for train_index, test_index in fold.split(train1,train1['target']):\n",
        "    train1_trn, train1_val = train1.iloc[train_index], train1.iloc[test_index]\n",
        "    model = ClassificationModel('roberta', 'roberta-large', use_cuda=True,num_labels=2, args=argss)\n",
        "    model.train_model(train1_trn)\n",
        "    raw_outputs_val = model.eval_model(train1_val)[1]\n",
        "    raw_outputs_val = softmax(raw_outputs_val,axis=1)[:,1]\n",
        "    print(f\"Log_Loss: {log_loss(train1_val['target'], raw_outputs_val)}\")\n",
        "    erreur.append(log_loss(train1_val['target'], raw_outputs_val))\n",
        "    raw_outputs_test = model.eval_model(testt)[1]\n",
        "    raw_outputs_test = softmax(raw_outputs_test,axis=1)[:,1]\n",
        "    pred2.append(raw_outputs_test)\n",
        "prediction_2=np.mean(pred2, 0)\n"
      ],
      "execution_count": 380,
      "outputs": [
        {
          "output_type": "stream",
          "text": [
            "Exception ignored in: <generator object tqdm_notebook.__iter__ at 0x7f2060047258>\n",
            "Traceback (most recent call last):\n",
            "  File \"/usr/local/lib/python3.6/dist-packages/tqdm/notebook.py\", line 220, in __iter__\n",
            "    self.sp(bar_style='danger')\n",
            "AttributeError: 'tqdm_notebook' object has no attribute 'sp'\n",
            "Exception ignored in: <generator object tqdm_notebook.__iter__ at 0x7f205c8c3d00>\n",
            "Traceback (most recent call last):\n",
            "  File \"/usr/local/lib/python3.6/dist-packages/tqdm/notebook.py\", line 220, in __iter__\n",
            "    self.sp(bar_style='danger')\n",
            "AttributeError: 'tqdm_notebook' object has no attribute 'sp'\n"
          ],
          "name": "stderr"
        },
        {
          "output_type": "error",
          "ename": "RuntimeError",
          "evalue": "ignored",
          "traceback": [
            "\u001b[0;31m---------------------------------------------------------------------------\u001b[0m",
            "\u001b[0;31mRuntimeError\u001b[0m                              Traceback (most recent call last)",
            "\u001b[0;32m<ipython-input-380-bd9ffd1e7685>\u001b[0m in \u001b[0;36m<module>\u001b[0;34m()\u001b[0m\n\u001b[1;32m      5\u001b[0m     \u001b[0mtrain1_trn\u001b[0m\u001b[0;34m,\u001b[0m \u001b[0mtrain1_val\u001b[0m \u001b[0;34m=\u001b[0m \u001b[0mtrain1\u001b[0m\u001b[0;34m.\u001b[0m\u001b[0miloc\u001b[0m\u001b[0;34m[\u001b[0m\u001b[0mtrain_index\u001b[0m\u001b[0;34m]\u001b[0m\u001b[0;34m,\u001b[0m \u001b[0mtrain1\u001b[0m\u001b[0;34m.\u001b[0m\u001b[0miloc\u001b[0m\u001b[0;34m[\u001b[0m\u001b[0mtest_index\u001b[0m\u001b[0;34m]\u001b[0m\u001b[0;34m\u001b[0m\u001b[0;34m\u001b[0m\u001b[0m\n\u001b[1;32m      6\u001b[0m     \u001b[0mmodel\u001b[0m \u001b[0;34m=\u001b[0m \u001b[0mClassificationModel\u001b[0m\u001b[0;34m(\u001b[0m\u001b[0;34m'roberta'\u001b[0m\u001b[0;34m,\u001b[0m \u001b[0;34m'roberta-large'\u001b[0m\u001b[0;34m,\u001b[0m \u001b[0muse_cuda\u001b[0m\u001b[0;34m=\u001b[0m\u001b[0;32mTrue\u001b[0m\u001b[0;34m,\u001b[0m\u001b[0mnum_labels\u001b[0m\u001b[0;34m=\u001b[0m\u001b[0;36m2\u001b[0m\u001b[0;34m,\u001b[0m \u001b[0margs\u001b[0m\u001b[0;34m=\u001b[0m\u001b[0margss\u001b[0m\u001b[0;34m)\u001b[0m\u001b[0;34m\u001b[0m\u001b[0;34m\u001b[0m\u001b[0m\n\u001b[0;32m----> 7\u001b[0;31m     \u001b[0mmodel\u001b[0m\u001b[0;34m.\u001b[0m\u001b[0mtrain_model\u001b[0m\u001b[0;34m(\u001b[0m\u001b[0mtrain1_trn\u001b[0m\u001b[0;34m)\u001b[0m\u001b[0;34m\u001b[0m\u001b[0;34m\u001b[0m\u001b[0m\n\u001b[0m\u001b[1;32m      8\u001b[0m     \u001b[0mraw_outputs_val\u001b[0m \u001b[0;34m=\u001b[0m \u001b[0mmodel\u001b[0m\u001b[0;34m.\u001b[0m\u001b[0meval_model\u001b[0m\u001b[0;34m(\u001b[0m\u001b[0mtrain1_val\u001b[0m\u001b[0;34m)\u001b[0m\u001b[0;34m[\u001b[0m\u001b[0;36m1\u001b[0m\u001b[0;34m]\u001b[0m\u001b[0;34m\u001b[0m\u001b[0;34m\u001b[0m\u001b[0m\n\u001b[1;32m      9\u001b[0m     \u001b[0mraw_outputs_val\u001b[0m \u001b[0;34m=\u001b[0m \u001b[0msoftmax\u001b[0m\u001b[0;34m(\u001b[0m\u001b[0mraw_outputs_val\u001b[0m\u001b[0;34m,\u001b[0m\u001b[0maxis\u001b[0m\u001b[0;34m=\u001b[0m\u001b[0;36m1\u001b[0m\u001b[0;34m)\u001b[0m\u001b[0;34m[\u001b[0m\u001b[0;34m:\u001b[0m\u001b[0;34m,\u001b[0m\u001b[0;36m1\u001b[0m\u001b[0;34m]\u001b[0m\u001b[0;34m\u001b[0m\u001b[0;34m\u001b[0m\u001b[0m\n",
            "\u001b[0;32m/usr/local/lib/python3.6/dist-packages/simpletransformers/classification/classification_model.py\u001b[0m in \u001b[0;36mtrain_model\u001b[0;34m(self, train_df, multi_label, output_dir, show_running_loss, args, eval_df, verbose, **kwargs)\u001b[0m\n\u001b[1;32m    267\u001b[0m             \u001b[0meval_df\u001b[0m\u001b[0;34m=\u001b[0m\u001b[0meval_df\u001b[0m\u001b[0;34m,\u001b[0m\u001b[0;34m\u001b[0m\u001b[0;34m\u001b[0m\u001b[0m\n\u001b[1;32m    268\u001b[0m             \u001b[0mverbose\u001b[0m\u001b[0;34m=\u001b[0m\u001b[0mverbose\u001b[0m\u001b[0;34m,\u001b[0m\u001b[0;34m\u001b[0m\u001b[0;34m\u001b[0m\u001b[0m\n\u001b[0;32m--> 269\u001b[0;31m             \u001b[0;34m**\u001b[0m\u001b[0mkwargs\u001b[0m\u001b[0;34m,\u001b[0m\u001b[0;34m\u001b[0m\u001b[0;34m\u001b[0m\u001b[0m\n\u001b[0m\u001b[1;32m    270\u001b[0m         )\n\u001b[1;32m    271\u001b[0m \u001b[0;34m\u001b[0m\u001b[0m\n",
            "\u001b[0;32m/usr/local/lib/python3.6/dist-packages/simpletransformers/classification/classification_model.py\u001b[0m in \u001b[0;36mtrain\u001b[0;34m(self, train_dataset, output_dir, multi_label, show_running_loss, eval_df, verbose, **kwargs)\u001b[0m\n\u001b[1;32m    386\u001b[0m \u001b[0;34m\u001b[0m\u001b[0m\n\u001b[1;32m    387\u001b[0m                 \u001b[0minputs\u001b[0m \u001b[0;34m=\u001b[0m \u001b[0mself\u001b[0m\u001b[0;34m.\u001b[0m\u001b[0m_get_inputs_dict\u001b[0m\u001b[0;34m(\u001b[0m\u001b[0mbatch\u001b[0m\u001b[0;34m)\u001b[0m\u001b[0;34m\u001b[0m\u001b[0;34m\u001b[0m\u001b[0m\n\u001b[0;32m--> 388\u001b[0;31m                 \u001b[0moutputs\u001b[0m \u001b[0;34m=\u001b[0m \u001b[0mmodel\u001b[0m\u001b[0;34m(\u001b[0m\u001b[0;34m**\u001b[0m\u001b[0minputs\u001b[0m\u001b[0;34m)\u001b[0m\u001b[0;34m\u001b[0m\u001b[0;34m\u001b[0m\u001b[0m\n\u001b[0m\u001b[1;32m    389\u001b[0m                 \u001b[0;31m# model outputs are always tuple in pytorch-transformers (see doc)\u001b[0m\u001b[0;34m\u001b[0m\u001b[0;34m\u001b[0m\u001b[0;34m\u001b[0m\u001b[0m\n\u001b[1;32m    390\u001b[0m                 \u001b[0mloss\u001b[0m \u001b[0;34m=\u001b[0m \u001b[0moutputs\u001b[0m\u001b[0;34m[\u001b[0m\u001b[0;36m0\u001b[0m\u001b[0;34m]\u001b[0m\u001b[0;34m\u001b[0m\u001b[0;34m\u001b[0m\u001b[0m\n",
            "\u001b[0;32m/usr/local/lib/python3.6/dist-packages/torch/nn/modules/module.py\u001b[0m in \u001b[0;36m__call__\u001b[0;34m(self, *input, **kwargs)\u001b[0m\n\u001b[1;32m    545\u001b[0m             \u001b[0mresult\u001b[0m \u001b[0;34m=\u001b[0m \u001b[0mself\u001b[0m\u001b[0;34m.\u001b[0m\u001b[0m_slow_forward\u001b[0m\u001b[0;34m(\u001b[0m\u001b[0;34m*\u001b[0m\u001b[0minput\u001b[0m\u001b[0;34m,\u001b[0m \u001b[0;34m**\u001b[0m\u001b[0mkwargs\u001b[0m\u001b[0;34m)\u001b[0m\u001b[0;34m\u001b[0m\u001b[0;34m\u001b[0m\u001b[0m\n\u001b[1;32m    546\u001b[0m         \u001b[0;32melse\u001b[0m\u001b[0;34m:\u001b[0m\u001b[0;34m\u001b[0m\u001b[0;34m\u001b[0m\u001b[0m\n\u001b[0;32m--> 547\u001b[0;31m             \u001b[0mresult\u001b[0m \u001b[0;34m=\u001b[0m \u001b[0mself\u001b[0m\u001b[0;34m.\u001b[0m\u001b[0mforward\u001b[0m\u001b[0;34m(\u001b[0m\u001b[0;34m*\u001b[0m\u001b[0minput\u001b[0m\u001b[0;34m,\u001b[0m \u001b[0;34m**\u001b[0m\u001b[0mkwargs\u001b[0m\u001b[0;34m)\u001b[0m\u001b[0;34m\u001b[0m\u001b[0;34m\u001b[0m\u001b[0m\n\u001b[0m\u001b[1;32m    548\u001b[0m         \u001b[0;32mfor\u001b[0m \u001b[0mhook\u001b[0m \u001b[0;32min\u001b[0m \u001b[0mself\u001b[0m\u001b[0;34m.\u001b[0m\u001b[0m_forward_hooks\u001b[0m\u001b[0;34m.\u001b[0m\u001b[0mvalues\u001b[0m\u001b[0;34m(\u001b[0m\u001b[0;34m)\u001b[0m\u001b[0;34m:\u001b[0m\u001b[0;34m\u001b[0m\u001b[0;34m\u001b[0m\u001b[0m\n\u001b[1;32m    549\u001b[0m             \u001b[0mhook_result\u001b[0m \u001b[0;34m=\u001b[0m \u001b[0mhook\u001b[0m\u001b[0;34m(\u001b[0m\u001b[0mself\u001b[0m\u001b[0;34m,\u001b[0m \u001b[0minput\u001b[0m\u001b[0;34m,\u001b[0m \u001b[0mresult\u001b[0m\u001b[0;34m)\u001b[0m\u001b[0;34m\u001b[0m\u001b[0;34m\u001b[0m\u001b[0m\n",
            "\u001b[0;32m/usr/local/lib/python3.6/dist-packages/simpletransformers/classification/transformer_models/roberta_model.py\u001b[0m in \u001b[0;36mforward\u001b[0;34m(self, input_ids, attention_mask, token_type_ids, position_ids, head_mask, inputs_embeds, labels)\u001b[0m\n\u001b[1;32m     65\u001b[0m             \u001b[0mtoken_type_ids\u001b[0m\u001b[0;34m=\u001b[0m\u001b[0mtoken_type_ids\u001b[0m\u001b[0;34m,\u001b[0m\u001b[0;34m\u001b[0m\u001b[0;34m\u001b[0m\u001b[0m\n\u001b[1;32m     66\u001b[0m             \u001b[0mposition_ids\u001b[0m\u001b[0;34m=\u001b[0m\u001b[0mposition_ids\u001b[0m\u001b[0;34m,\u001b[0m\u001b[0;34m\u001b[0m\u001b[0;34m\u001b[0m\u001b[0m\n\u001b[0;32m---> 67\u001b[0;31m             \u001b[0mhead_mask\u001b[0m\u001b[0;34m=\u001b[0m\u001b[0mhead_mask\u001b[0m\u001b[0;34m,\u001b[0m\u001b[0;34m\u001b[0m\u001b[0;34m\u001b[0m\u001b[0m\n\u001b[0m\u001b[1;32m     68\u001b[0m         )\n\u001b[1;32m     69\u001b[0m         \u001b[0msequence_output\u001b[0m \u001b[0;34m=\u001b[0m \u001b[0moutputs\u001b[0m\u001b[0;34m[\u001b[0m\u001b[0;36m0\u001b[0m\u001b[0;34m]\u001b[0m\u001b[0;34m\u001b[0m\u001b[0;34m\u001b[0m\u001b[0m\n",
            "\u001b[0;32m/usr/local/lib/python3.6/dist-packages/torch/nn/modules/module.py\u001b[0m in \u001b[0;36m__call__\u001b[0;34m(self, *input, **kwargs)\u001b[0m\n\u001b[1;32m    545\u001b[0m             \u001b[0mresult\u001b[0m \u001b[0;34m=\u001b[0m \u001b[0mself\u001b[0m\u001b[0;34m.\u001b[0m\u001b[0m_slow_forward\u001b[0m\u001b[0;34m(\u001b[0m\u001b[0;34m*\u001b[0m\u001b[0minput\u001b[0m\u001b[0;34m,\u001b[0m \u001b[0;34m**\u001b[0m\u001b[0mkwargs\u001b[0m\u001b[0;34m)\u001b[0m\u001b[0;34m\u001b[0m\u001b[0;34m\u001b[0m\u001b[0m\n\u001b[1;32m    546\u001b[0m         \u001b[0;32melse\u001b[0m\u001b[0;34m:\u001b[0m\u001b[0;34m\u001b[0m\u001b[0;34m\u001b[0m\u001b[0m\n\u001b[0;32m--> 547\u001b[0;31m             \u001b[0mresult\u001b[0m \u001b[0;34m=\u001b[0m \u001b[0mself\u001b[0m\u001b[0;34m.\u001b[0m\u001b[0mforward\u001b[0m\u001b[0;34m(\u001b[0m\u001b[0;34m*\u001b[0m\u001b[0minput\u001b[0m\u001b[0;34m,\u001b[0m \u001b[0;34m**\u001b[0m\u001b[0mkwargs\u001b[0m\u001b[0;34m)\u001b[0m\u001b[0;34m\u001b[0m\u001b[0;34m\u001b[0m\u001b[0m\n\u001b[0m\u001b[1;32m    548\u001b[0m         \u001b[0;32mfor\u001b[0m \u001b[0mhook\u001b[0m \u001b[0;32min\u001b[0m \u001b[0mself\u001b[0m\u001b[0;34m.\u001b[0m\u001b[0m_forward_hooks\u001b[0m\u001b[0;34m.\u001b[0m\u001b[0mvalues\u001b[0m\u001b[0;34m(\u001b[0m\u001b[0;34m)\u001b[0m\u001b[0;34m:\u001b[0m\u001b[0;34m\u001b[0m\u001b[0;34m\u001b[0m\u001b[0m\n\u001b[1;32m    549\u001b[0m             \u001b[0mhook_result\u001b[0m \u001b[0;34m=\u001b[0m \u001b[0mhook\u001b[0m\u001b[0;34m(\u001b[0m\u001b[0mself\u001b[0m\u001b[0;34m,\u001b[0m \u001b[0minput\u001b[0m\u001b[0;34m,\u001b[0m \u001b[0mresult\u001b[0m\u001b[0;34m)\u001b[0m\u001b[0;34m\u001b[0m\u001b[0;34m\u001b[0m\u001b[0m\n",
            "\u001b[0;32m/usr/local/lib/python3.6/dist-packages/transformers/modeling_bert.py\u001b[0m in \u001b[0;36mforward\u001b[0;34m(self, input_ids, attention_mask, token_type_ids, position_ids, head_mask, inputs_embeds, encoder_hidden_states, encoder_attention_mask)\u001b[0m\n\u001b[1;32m    734\u001b[0m             \u001b[0mhead_mask\u001b[0m\u001b[0;34m=\u001b[0m\u001b[0mhead_mask\u001b[0m\u001b[0;34m,\u001b[0m\u001b[0;34m\u001b[0m\u001b[0;34m\u001b[0m\u001b[0m\n\u001b[1;32m    735\u001b[0m             \u001b[0mencoder_hidden_states\u001b[0m\u001b[0;34m=\u001b[0m\u001b[0mencoder_hidden_states\u001b[0m\u001b[0;34m,\u001b[0m\u001b[0;34m\u001b[0m\u001b[0;34m\u001b[0m\u001b[0m\n\u001b[0;32m--> 736\u001b[0;31m             \u001b[0mencoder_attention_mask\u001b[0m\u001b[0;34m=\u001b[0m\u001b[0mencoder_extended_attention_mask\u001b[0m\u001b[0;34m,\u001b[0m\u001b[0;34m\u001b[0m\u001b[0;34m\u001b[0m\u001b[0m\n\u001b[0m\u001b[1;32m    737\u001b[0m         )\n\u001b[1;32m    738\u001b[0m         \u001b[0msequence_output\u001b[0m \u001b[0;34m=\u001b[0m \u001b[0mencoder_outputs\u001b[0m\u001b[0;34m[\u001b[0m\u001b[0;36m0\u001b[0m\u001b[0;34m]\u001b[0m\u001b[0;34m\u001b[0m\u001b[0;34m\u001b[0m\u001b[0m\n",
            "\u001b[0;32m/usr/local/lib/python3.6/dist-packages/torch/nn/modules/module.py\u001b[0m in \u001b[0;36m__call__\u001b[0;34m(self, *input, **kwargs)\u001b[0m\n\u001b[1;32m    545\u001b[0m             \u001b[0mresult\u001b[0m \u001b[0;34m=\u001b[0m \u001b[0mself\u001b[0m\u001b[0;34m.\u001b[0m\u001b[0m_slow_forward\u001b[0m\u001b[0;34m(\u001b[0m\u001b[0;34m*\u001b[0m\u001b[0minput\u001b[0m\u001b[0;34m,\u001b[0m \u001b[0;34m**\u001b[0m\u001b[0mkwargs\u001b[0m\u001b[0;34m)\u001b[0m\u001b[0;34m\u001b[0m\u001b[0;34m\u001b[0m\u001b[0m\n\u001b[1;32m    546\u001b[0m         \u001b[0;32melse\u001b[0m\u001b[0;34m:\u001b[0m\u001b[0;34m\u001b[0m\u001b[0;34m\u001b[0m\u001b[0m\n\u001b[0;32m--> 547\u001b[0;31m             \u001b[0mresult\u001b[0m \u001b[0;34m=\u001b[0m \u001b[0mself\u001b[0m\u001b[0;34m.\u001b[0m\u001b[0mforward\u001b[0m\u001b[0;34m(\u001b[0m\u001b[0;34m*\u001b[0m\u001b[0minput\u001b[0m\u001b[0;34m,\u001b[0m \u001b[0;34m**\u001b[0m\u001b[0mkwargs\u001b[0m\u001b[0;34m)\u001b[0m\u001b[0;34m\u001b[0m\u001b[0;34m\u001b[0m\u001b[0m\n\u001b[0m\u001b[1;32m    548\u001b[0m         \u001b[0;32mfor\u001b[0m \u001b[0mhook\u001b[0m \u001b[0;32min\u001b[0m \u001b[0mself\u001b[0m\u001b[0;34m.\u001b[0m\u001b[0m_forward_hooks\u001b[0m\u001b[0;34m.\u001b[0m\u001b[0mvalues\u001b[0m\u001b[0;34m(\u001b[0m\u001b[0;34m)\u001b[0m\u001b[0;34m:\u001b[0m\u001b[0;34m\u001b[0m\u001b[0;34m\u001b[0m\u001b[0m\n\u001b[1;32m    549\u001b[0m             \u001b[0mhook_result\u001b[0m \u001b[0;34m=\u001b[0m \u001b[0mhook\u001b[0m\u001b[0;34m(\u001b[0m\u001b[0mself\u001b[0m\u001b[0;34m,\u001b[0m \u001b[0minput\u001b[0m\u001b[0;34m,\u001b[0m \u001b[0mresult\u001b[0m\u001b[0;34m)\u001b[0m\u001b[0;34m\u001b[0m\u001b[0;34m\u001b[0m\u001b[0m\n",
            "\u001b[0;32m/usr/local/lib/python3.6/dist-packages/transformers/modeling_bert.py\u001b[0m in \u001b[0;36mforward\u001b[0;34m(self, hidden_states, attention_mask, head_mask, encoder_hidden_states, encoder_attention_mask)\u001b[0m\n\u001b[1;32m    405\u001b[0m \u001b[0;34m\u001b[0m\u001b[0m\n\u001b[1;32m    406\u001b[0m             layer_outputs = layer_module(\n\u001b[0;32m--> 407\u001b[0;31m                 \u001b[0mhidden_states\u001b[0m\u001b[0;34m,\u001b[0m \u001b[0mattention_mask\u001b[0m\u001b[0;34m,\u001b[0m \u001b[0mhead_mask\u001b[0m\u001b[0;34m[\u001b[0m\u001b[0mi\u001b[0m\u001b[0;34m]\u001b[0m\u001b[0;34m,\u001b[0m \u001b[0mencoder_hidden_states\u001b[0m\u001b[0;34m,\u001b[0m \u001b[0mencoder_attention_mask\u001b[0m\u001b[0;34m\u001b[0m\u001b[0;34m\u001b[0m\u001b[0m\n\u001b[0m\u001b[1;32m    408\u001b[0m             )\n\u001b[1;32m    409\u001b[0m             \u001b[0mhidden_states\u001b[0m \u001b[0;34m=\u001b[0m \u001b[0mlayer_outputs\u001b[0m\u001b[0;34m[\u001b[0m\u001b[0;36m0\u001b[0m\u001b[0;34m]\u001b[0m\u001b[0;34m\u001b[0m\u001b[0;34m\u001b[0m\u001b[0m\n",
            "\u001b[0;32m/usr/local/lib/python3.6/dist-packages/torch/nn/modules/module.py\u001b[0m in \u001b[0;36m__call__\u001b[0;34m(self, *input, **kwargs)\u001b[0m\n\u001b[1;32m    545\u001b[0m             \u001b[0mresult\u001b[0m \u001b[0;34m=\u001b[0m \u001b[0mself\u001b[0m\u001b[0;34m.\u001b[0m\u001b[0m_slow_forward\u001b[0m\u001b[0;34m(\u001b[0m\u001b[0;34m*\u001b[0m\u001b[0minput\u001b[0m\u001b[0;34m,\u001b[0m \u001b[0;34m**\u001b[0m\u001b[0mkwargs\u001b[0m\u001b[0;34m)\u001b[0m\u001b[0;34m\u001b[0m\u001b[0;34m\u001b[0m\u001b[0m\n\u001b[1;32m    546\u001b[0m         \u001b[0;32melse\u001b[0m\u001b[0;34m:\u001b[0m\u001b[0;34m\u001b[0m\u001b[0;34m\u001b[0m\u001b[0m\n\u001b[0;32m--> 547\u001b[0;31m             \u001b[0mresult\u001b[0m \u001b[0;34m=\u001b[0m \u001b[0mself\u001b[0m\u001b[0;34m.\u001b[0m\u001b[0mforward\u001b[0m\u001b[0;34m(\u001b[0m\u001b[0;34m*\u001b[0m\u001b[0minput\u001b[0m\u001b[0;34m,\u001b[0m \u001b[0;34m**\u001b[0m\u001b[0mkwargs\u001b[0m\u001b[0;34m)\u001b[0m\u001b[0;34m\u001b[0m\u001b[0;34m\u001b[0m\u001b[0m\n\u001b[0m\u001b[1;32m    548\u001b[0m         \u001b[0;32mfor\u001b[0m \u001b[0mhook\u001b[0m \u001b[0;32min\u001b[0m \u001b[0mself\u001b[0m\u001b[0;34m.\u001b[0m\u001b[0m_forward_hooks\u001b[0m\u001b[0;34m.\u001b[0m\u001b[0mvalues\u001b[0m\u001b[0;34m(\u001b[0m\u001b[0;34m)\u001b[0m\u001b[0;34m:\u001b[0m\u001b[0;34m\u001b[0m\u001b[0;34m\u001b[0m\u001b[0m\n\u001b[1;32m    549\u001b[0m             \u001b[0mhook_result\u001b[0m \u001b[0;34m=\u001b[0m \u001b[0mhook\u001b[0m\u001b[0;34m(\u001b[0m\u001b[0mself\u001b[0m\u001b[0;34m,\u001b[0m \u001b[0minput\u001b[0m\u001b[0;34m,\u001b[0m \u001b[0mresult\u001b[0m\u001b[0;34m)\u001b[0m\u001b[0;34m\u001b[0m\u001b[0;34m\u001b[0m\u001b[0m\n",
            "\u001b[0;32m/usr/local/lib/python3.6/dist-packages/transformers/modeling_bert.py\u001b[0m in \u001b[0;36mforward\u001b[0;34m(self, hidden_states, attention_mask, head_mask, encoder_hidden_states, encoder_attention_mask)\u001b[0m\n\u001b[1;32m    377\u001b[0m             \u001b[0moutputs\u001b[0m \u001b[0;34m=\u001b[0m \u001b[0moutputs\u001b[0m \u001b[0;34m+\u001b[0m \u001b[0mcross_attention_outputs\u001b[0m\u001b[0;34m[\u001b[0m\u001b[0;36m1\u001b[0m\u001b[0;34m:\u001b[0m\u001b[0;34m]\u001b[0m  \u001b[0;31m# add cross attentions if we output attention weights\u001b[0m\u001b[0;34m\u001b[0m\u001b[0;34m\u001b[0m\u001b[0m\n\u001b[1;32m    378\u001b[0m \u001b[0;34m\u001b[0m\u001b[0m\n\u001b[0;32m--> 379\u001b[0;31m         \u001b[0mintermediate_output\u001b[0m \u001b[0;34m=\u001b[0m \u001b[0mself\u001b[0m\u001b[0;34m.\u001b[0m\u001b[0mintermediate\u001b[0m\u001b[0;34m(\u001b[0m\u001b[0mattention_output\u001b[0m\u001b[0;34m)\u001b[0m\u001b[0;34m\u001b[0m\u001b[0;34m\u001b[0m\u001b[0m\n\u001b[0m\u001b[1;32m    380\u001b[0m         \u001b[0mlayer_output\u001b[0m \u001b[0;34m=\u001b[0m \u001b[0mself\u001b[0m\u001b[0;34m.\u001b[0m\u001b[0moutput\u001b[0m\u001b[0;34m(\u001b[0m\u001b[0mintermediate_output\u001b[0m\u001b[0;34m,\u001b[0m \u001b[0mattention_output\u001b[0m\u001b[0;34m)\u001b[0m\u001b[0;34m\u001b[0m\u001b[0;34m\u001b[0m\u001b[0m\n\u001b[1;32m    381\u001b[0m         \u001b[0moutputs\u001b[0m \u001b[0;34m=\u001b[0m \u001b[0;34m(\u001b[0m\u001b[0mlayer_output\u001b[0m\u001b[0;34m,\u001b[0m\u001b[0;34m)\u001b[0m \u001b[0;34m+\u001b[0m \u001b[0moutputs\u001b[0m\u001b[0;34m\u001b[0m\u001b[0;34m\u001b[0m\u001b[0m\n",
            "\u001b[0;32m/usr/local/lib/python3.6/dist-packages/torch/nn/modules/module.py\u001b[0m in \u001b[0;36m__call__\u001b[0;34m(self, *input, **kwargs)\u001b[0m\n\u001b[1;32m    545\u001b[0m             \u001b[0mresult\u001b[0m \u001b[0;34m=\u001b[0m \u001b[0mself\u001b[0m\u001b[0;34m.\u001b[0m\u001b[0m_slow_forward\u001b[0m\u001b[0;34m(\u001b[0m\u001b[0;34m*\u001b[0m\u001b[0minput\u001b[0m\u001b[0;34m,\u001b[0m \u001b[0;34m**\u001b[0m\u001b[0mkwargs\u001b[0m\u001b[0;34m)\u001b[0m\u001b[0;34m\u001b[0m\u001b[0;34m\u001b[0m\u001b[0m\n\u001b[1;32m    546\u001b[0m         \u001b[0;32melse\u001b[0m\u001b[0;34m:\u001b[0m\u001b[0;34m\u001b[0m\u001b[0;34m\u001b[0m\u001b[0m\n\u001b[0;32m--> 547\u001b[0;31m             \u001b[0mresult\u001b[0m \u001b[0;34m=\u001b[0m \u001b[0mself\u001b[0m\u001b[0;34m.\u001b[0m\u001b[0mforward\u001b[0m\u001b[0;34m(\u001b[0m\u001b[0;34m*\u001b[0m\u001b[0minput\u001b[0m\u001b[0;34m,\u001b[0m \u001b[0;34m**\u001b[0m\u001b[0mkwargs\u001b[0m\u001b[0;34m)\u001b[0m\u001b[0;34m\u001b[0m\u001b[0;34m\u001b[0m\u001b[0m\n\u001b[0m\u001b[1;32m    548\u001b[0m         \u001b[0;32mfor\u001b[0m \u001b[0mhook\u001b[0m \u001b[0;32min\u001b[0m \u001b[0mself\u001b[0m\u001b[0;34m.\u001b[0m\u001b[0m_forward_hooks\u001b[0m\u001b[0;34m.\u001b[0m\u001b[0mvalues\u001b[0m\u001b[0;34m(\u001b[0m\u001b[0;34m)\u001b[0m\u001b[0;34m:\u001b[0m\u001b[0;34m\u001b[0m\u001b[0;34m\u001b[0m\u001b[0m\n\u001b[1;32m    549\u001b[0m             \u001b[0mhook_result\u001b[0m \u001b[0;34m=\u001b[0m \u001b[0mhook\u001b[0m\u001b[0;34m(\u001b[0m\u001b[0mself\u001b[0m\u001b[0;34m,\u001b[0m \u001b[0minput\u001b[0m\u001b[0;34m,\u001b[0m \u001b[0mresult\u001b[0m\u001b[0;34m)\u001b[0m\u001b[0;34m\u001b[0m\u001b[0;34m\u001b[0m\u001b[0m\n",
            "\u001b[0;32m/usr/local/lib/python3.6/dist-packages/transformers/modeling_bert.py\u001b[0m in \u001b[0;36mforward\u001b[0;34m(self, hidden_states)\u001b[0m\n\u001b[1;32m    330\u001b[0m     \u001b[0;32mdef\u001b[0m \u001b[0mforward\u001b[0m\u001b[0;34m(\u001b[0m\u001b[0mself\u001b[0m\u001b[0;34m,\u001b[0m \u001b[0mhidden_states\u001b[0m\u001b[0;34m)\u001b[0m\u001b[0;34m:\u001b[0m\u001b[0;34m\u001b[0m\u001b[0;34m\u001b[0m\u001b[0m\n\u001b[1;32m    331\u001b[0m         \u001b[0mhidden_states\u001b[0m \u001b[0;34m=\u001b[0m \u001b[0mself\u001b[0m\u001b[0;34m.\u001b[0m\u001b[0mdense\u001b[0m\u001b[0;34m(\u001b[0m\u001b[0mhidden_states\u001b[0m\u001b[0;34m)\u001b[0m\u001b[0;34m\u001b[0m\u001b[0;34m\u001b[0m\u001b[0m\n\u001b[0;32m--> 332\u001b[0;31m         \u001b[0mhidden_states\u001b[0m \u001b[0;34m=\u001b[0m \u001b[0mself\u001b[0m\u001b[0;34m.\u001b[0m\u001b[0mintermediate_act_fn\u001b[0m\u001b[0;34m(\u001b[0m\u001b[0mhidden_states\u001b[0m\u001b[0;34m)\u001b[0m\u001b[0;34m\u001b[0m\u001b[0;34m\u001b[0m\u001b[0m\n\u001b[0m\u001b[1;32m    333\u001b[0m         \u001b[0;32mreturn\u001b[0m \u001b[0mhidden_states\u001b[0m\u001b[0;34m\u001b[0m\u001b[0;34m\u001b[0m\u001b[0m\n\u001b[1;32m    334\u001b[0m \u001b[0;34m\u001b[0m\u001b[0m\n",
            "\u001b[0;32m/usr/local/lib/python3.6/dist-packages/transformers/activations.py\u001b[0m in \u001b[0;36m_gelu_python\u001b[0;34m(x)\u001b[0m\n\u001b[1;32m     20\u001b[0m         \u001b[0mAlso\u001b[0m \u001b[0msee\u001b[0m \u001b[0mhttps\u001b[0m\u001b[0;34m:\u001b[0m\u001b[0;34m//\u001b[0m\u001b[0marxiv\u001b[0m\u001b[0;34m.\u001b[0m\u001b[0morg\u001b[0m\u001b[0;34m/\u001b[0m\u001b[0mabs\u001b[0m\u001b[0;34m/\u001b[0m\u001b[0;36m1606.08415\u001b[0m\u001b[0;34m\u001b[0m\u001b[0;34m\u001b[0m\u001b[0m\n\u001b[1;32m     21\u001b[0m     \"\"\"\n\u001b[0;32m---> 22\u001b[0;31m     \u001b[0;32mreturn\u001b[0m \u001b[0mx\u001b[0m \u001b[0;34m*\u001b[0m \u001b[0;36m0.5\u001b[0m \u001b[0;34m*\u001b[0m \u001b[0;34m(\u001b[0m\u001b[0;36m1.0\u001b[0m \u001b[0;34m+\u001b[0m \u001b[0mtorch\u001b[0m\u001b[0;34m.\u001b[0m\u001b[0merf\u001b[0m\u001b[0;34m(\u001b[0m\u001b[0mx\u001b[0m \u001b[0;34m/\u001b[0m \u001b[0mmath\u001b[0m\u001b[0;34m.\u001b[0m\u001b[0msqrt\u001b[0m\u001b[0;34m(\u001b[0m\u001b[0;36m2.0\u001b[0m\u001b[0;34m)\u001b[0m\u001b[0;34m)\u001b[0m\u001b[0;34m)\u001b[0m\u001b[0;34m\u001b[0m\u001b[0;34m\u001b[0m\u001b[0m\n\u001b[0m\u001b[1;32m     23\u001b[0m \u001b[0;34m\u001b[0m\u001b[0m\n\u001b[1;32m     24\u001b[0m \u001b[0;34m\u001b[0m\u001b[0m\n",
            "\u001b[0;31mRuntimeError\u001b[0m: CUDA out of memory. Tried to allocate 32.00 MiB (GPU 0; 11.17 GiB total capacity; 10.09 GiB already allocated; 29.81 MiB free; 702.50 MiB cached)"
          ]
        }
      ]
    },
    {
      "cell_type": "code",
      "metadata": {
        "id": "QfYlgnZrMU6F",
        "colab_type": "code",
        "colab": {}
      },
      "source": [
        "predicition2=prediction_2.tolist()"
      ],
      "execution_count": 0,
      "outputs": []
    },
    {
      "cell_type": "markdown",
      "metadata": {
        "id": "-36NWyOnMPCh",
        "colab_type": "text"
      },
      "source": [
        "Final result after running the two models:"
      ]
    },
    {
      "cell_type": "code",
      "metadata": {
        "id": "5-25SBMowOXF",
        "colab_type": "code",
        "colab": {}
      },
      "source": [
        "result=[]\n",
        "for i in range(0,len(prediction)):\n",
        "  h=0.75*prediction2[i]+0.25*prediction[i]\n",
        "  result.append(h)"
      ],
      "execution_count": 0,
      "outputs": []
    },
    {
      "cell_type": "code",
      "metadata": {
        "id": "Av1EWSbtwOZX",
        "colab_type": "code",
        "colab": {}
      },
      "source": [
        "sample_sub.target=result"
      ],
      "execution_count": 0,
      "outputs": []
    },
    {
      "cell_type": "code",
      "metadata": {
        "id": "-dRlADoWM0UV",
        "colab_type": "code",
        "colab": {}
      },
      "source": [
        "sample_sub.to_csv('larabe.csv',index=False)#0.1658"
      ],
      "execution_count": 0,
      "outputs": []
    }
  ]
}